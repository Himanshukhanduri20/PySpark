{
  "nbformat": 4,
  "nbformat_minor": 0,
  "metadata": {
    "colab": {
      "name": "new_last_update.ipynb",
      "provenance": [],
      "collapsed_sections": [],
      "authorship_tag": "ABX9TyOULTNk5DB5fB+Xs8IPMGlm",
      "include_colab_link": true
    },
    "kernelspec": {
      "name": "python3",
      "display_name": "Python 3"
    },
    "language_info": {
      "name": "python"
    }
  },
  "cells": [
    {
      "cell_type": "markdown",
      "metadata": {
        "id": "view-in-github",
        "colab_type": "text"
      },
      "source": [
        "<a href=\"https://colab.research.google.com/github/Himanshukhanduri20/PySpark/blob/main/new_last_update.ipynb\" target=\"_parent\"><img src=\"https://colab.research.google.com/assets/colab-badge.svg\" alt=\"Open In Colab\"/></a>"
      ]
    },
    {
      "cell_type": "code",
      "execution_count": 1,
      "metadata": {
        "colab": {
          "base_uri": "https://localhost:8080/"
        },
        "id": "WHAkmD2wU56c",
        "outputId": "d46283b0-23d0-4e31-c1ac-090ba0155682"
      },
      "outputs": [
        {
          "output_type": "stream",
          "name": "stdout",
          "text": [
            "--2022-06-25 10:10:51--  https://bin.equinox.io/c/4VmDzA7iaHb/ngrok-stable-linux-amd64.zip\n",
            "Resolving bin.equinox.io (bin.equinox.io)... 52.202.168.65, 18.205.222.128, 54.237.133.81, ...\n",
            "Connecting to bin.equinox.io (bin.equinox.io)|52.202.168.65|:443... connected.\n",
            "HTTP request sent, awaiting response... 200 OK\n",
            "Length: 13832437 (13M) [application/octet-stream]\n",
            "Saving to: ‘ngrok-stable-linux-amd64.zip’\n",
            "\n",
            "ngrok-stable-linux- 100%[===================>]  13.19M  58.7MB/s    in 0.2s    \n",
            "\n",
            "2022-06-25 10:10:51 (58.7 MB/s) - ‘ngrok-stable-linux-amd64.zip’ saved [13832437/13832437]\n",
            "\n",
            "Archive:  ngrok-stable-linux-amd64.zip\n",
            "  inflating: ngrok                   \n",
            "{\"tunnels\":[],\"uri\":\"/api/tunnels\"}\n"
          ]
        }
      ],
      "source": [
        "#Spark is written in the Scala programming language and requires the Java Virtual Machine (JVM) to run.\n",
        "!apt-get install openjdk-8-jdk-headless -qq > /dev/null\n",
        "!wget -q https://archive.apache.org/dist/spark/spark-3.0.0/spark-3.0.0-bin-hadoop3.2.tgz\n",
        "!tar xf spark-3.0.0-bin-hadoop3.2.tgz\n",
        "import os\n",
        "os.environ[\"JAVA_HOME\"] = \"/usr/lib/jvm/java-8-openjdk-amd64\"\n",
        "os.environ[\"SPARK_HOME\"] = \"/content/spark-3.0.0-bin-hadoop3.2\"\n",
        "!pip install -q findspark\n",
        "import findspark\n",
        "findspark.init()\n",
        "findspark.find()\n",
        "from pyspark.sql import SparkSession\n",
        "\n",
        "spark = SparkSession.builder\\\n",
        "        .master(\"local\")\\\n",
        "        .appName(\"Colab\")\\\n",
        "        .config('spark.ui.port', '4050')\\\n",
        "        .getOrCreate()\n",
        "\n",
        "spark\n",
        "!wget https://bin.equinox.io/c/4VmDzA7iaHb/ngrok-stable-linux-amd64.zip\n",
        "!unzip ngrok-stable-linux-amd64.zip\n",
        "get_ipython().system_raw('./ngrok http 4050 &')\n",
        "!curl -s http://localhost:4040/api/tunnels"
      ]
    },
    {
      "cell_type": "code",
      "source": [
        "df = spark.read.format(\"text\").load(\"/content/sample_data/example_log.log\")"
      ],
      "metadata": {
        "id": "yRqiO4ufVyrE"
      },
      "execution_count": 34,
      "outputs": []
    },
    {
      "cell_type": "code",
      "source": [
        "df.show()"
      ],
      "metadata": {
        "colab": {
          "base_uri": "https://localhost:8080/"
        },
        "id": "s8HTISTCWQxK",
        "outputId": "939bef80-c190-46f8-8b30-3a00b5025dfb"
      },
      "execution_count": 35,
      "outputs": [
        {
          "output_type": "stream",
          "name": "stdout",
          "text": [
            "+--------------------+\n",
            "|               value|\n",
            "+--------------------+\n",
            "|<166>Jun  1 07:33...|\n",
            "|                    |\n",
            "|<166>Jun  2 07:39...|\n",
            "|                    |\n",
            "|<166>Jun  3 07:44...|\n",
            "|                    |\n",
            "|<166>Jun  4 07:50...|\n",
            "|                    |\n",
            "|<166>Jun  5 07:56...|\n",
            "|                    |\n",
            "|<166>Jun  6 08:01...|\n",
            "|                    |\n",
            "|<166>Jun  7 08:07...|\n",
            "|                    |\n",
            "|<166>Jun  8 08:13...|\n",
            "|                    |\n",
            "|<166>Jun  9 08:18...|\n",
            "|                    |\n",
            "|<166>Jun  10 08:2...|\n",
            "+--------------------+\n",
            "\n"
          ]
        }
      ]
    },
    {
      "cell_type": "code",
      "source": [
        "df=df.filter(df.value.contains(\"Trend Micro\"))\n",
        "df.show()"
      ],
      "metadata": {
        "colab": {
          "base_uri": "https://localhost:8080/"
        },
        "id": "9J9NRrWfeoBr",
        "outputId": "3e0336bc-4573-4206-9ced-01b731cda78a"
      },
      "execution_count": 37,
      "outputs": [
        {
          "output_type": "stream",
          "name": "stdout",
          "text": [
            "+--------------------+\n",
            "|               value|\n",
            "+--------------------+\n",
            "|<166>Jun  1 07:33...|\n",
            "|<166>Jun  2 07:39...|\n",
            "|<166>Jun  3 07:44...|\n",
            "|<166>Jun  4 07:50...|\n",
            "|<166>Jun  5 07:56...|\n",
            "|<166>Jun  6 08:01...|\n",
            "|<166>Jun  8 08:13...|\n",
            "|<166>Jun  9 08:18...|\n",
            "|<166>Jun  10 08:2...|\n",
            "+--------------------+\n",
            "\n"
          ]
        }
      ]
    },
    {
      "cell_type": "code",
      "source": [
        "import pyspark.sql.functions as F\n",
        "from pyspark.sql.functions import when\n",
        "from pyspark.sql.functions import col"
      ],
      "metadata": {
        "id": "YrXu1LVxWV0r"
      },
      "execution_count": 38,
      "outputs": []
    },
    {
      "cell_type": "code",
      "source": [
        "\n",
        "df1=df.withColumn(\"current_date\",F.current_date())\n",
        "df1=df1.withColumn(\"year\",F.regexp_extract(df1.current_date,\"([\\\\d]+)\",1)).drop(df1.current_date)\n",
        "df1=df1.withColumn(\"_c6\",F.regexp_extract(df.value,'(>[a-zA-Z]+\\s*\\d+\\s*[\\d+:]+)',1))\n",
        "df1=df1.withColumn(\"Time\",F.regexp_extract(df1._c6,'(\\d+:\\d+:\\d+)',1))\n",
        "df1=df1.withColumn('_c6', F.regexp_replace('_c6', '>', '')).withColumn('Date', F.regexp_replace('_c6', '(\\d+:\\d+:\\d+)', '')).withColumn('Data_source_host_name', F.regexp_extract(df1.value, '([a-zA-Z]+[-][a-zA-Z]+[-][a-zA-Z]+[-]\\d+)',1))\n",
        "df1=df1.withColumn(\"Day\",F.regexp_extract(df1.Date,'(\\d+)',1))\n",
        "df1=df1.withColumn(\"Month\",F.regexp_extract(df1.Date,'([a-zA-Z]+)',1))\n",
        "df1=df1.withColumn(\"Month\", when(col(\"month\") == \"Jan\", \"01\").when(col(\"month\") == \"Feb\", \"02\").when(col(\"month\") == \"Mar\", \"03\").when(col(\"month\") == \"Apr\", \"04\").when(col(\"month\") == \"May\", \"05\").when(col(\"month\") == \"Jun\", \"06\").when(col(\"month\") == \"Jul\", \"07\").when(col(\"month\") == \"Aug\", \"08\").when(col(\"month\") == \"Sep\", \"09\").when(col(\"month\") == \"Oct\", \"10\").when(col(\"month\") == \"Nov\", \"10\").when(col(\"month\") == \"Dec\", \"12\").otherwise(\"Unknown\"))\n",
        "df1=df1.withColumn(\"Date\",F.concat_ws(\"-\",df1.year,df1.Month,df1.Day))\n",
        "df1=df1.withColumn('Log_category',F.regexp_replace(F.regexp_extract(df1.value,'(cat=[a-zA-Z]+)',1),'cat=',\"\"))\n",
        "df1=df1.withColumn(\"Attack_type\",F.regexp_replace(F.regexp_extract(df1.value,'(#011name=[a-zA-Z:\\s]+)',1),'#011name=',\"\"))\n",
        "df1=df1.withColumn(\"Description\",F.regexp_replace(F.regexp_extract(df1.value,'(011desc=[a-zA-Z\\s\\/.]+)',1),'011desc=',\"\"))\n",
        "df1=df1.withColumn(\"Seviority\",F.regexp_replace(F.regexp_extract(df1.value,'(011sev=[\\d]+)',1),'011sev=',\"\"))\n",
        "df1=df1.withColumn(\"Source_ip\",F.regexp_replace(F.regexp_extract(df1.value,'(#011src=[0-9]{1,3}[.][0-9]{1,3}[.][0-9]{1,3}[.][0-9]{1,3})',1),'#011src=',\"\"))\n",
        "df1=df1.withColumn(\"User_name\",F.regexp_replace(F.regexp_extract(df1.value,'(011usrName=[a-zA-Z \\s]+)',1),'011usrName=',\"\"))\n",
        "df1=df1.withColumn(\"Destination_ip\",F.regexp_extract(F.regexp_extract(df1.value,'(#011target=[0-9 . ( ) a-zA-Z ]+)',1),'([0-9]{1,3}[.][0-9]{1,3}[.][0-9]{1,3}[.][0-9]{1,3})',1))\n",
        "df1=df1.withColumn(\"Desitination_host\",F.regexp_replace(F.regexp_replace(F.regexp_extract(df1.value,'(#011target=[0-9 . ( ) a-zA-Z ]+)',1),'([0-9]{1,3}[.][0-9]{1,3}[.][0-9]{1,3}[.][0-9]{1,3})',\"\"),'#011target=' ,\"\"))\n",
        "df1=df1.withColumn(\"Rule_message\",F.regexp_replace(F.regexp_extract(df1.value,'(#011msg=[0-9 . \\/ a-zA-Z ]+)',1),'#011msg=',\"\"))\n",
        "df1=df1.withColumn(\"Data_source_ip\",F.regexp_replace(F.regexp_extract(df1.value,'(#011TrendMicroDsScannerIp=[0-9]{1,3}[.][0-9]{1,3}[.][0-9]{1,3}[.][0-9]{1,3})',1),'#011TrendMicroDsScannerIp=',\"\"))\n",
        "df1=df1.withColumn(\"Destination_port\",F.regexp_replace(F.regexp_extract(df1.value,'(TrendMicroDsTargetPortList=[\\d*;]*\\d*)',1),'TrendMicroDsTargetPortList=',\"\"))\n",
        "df1=df1.withColumn(\"DataSource_IP\",F.regexp_replace(F.regexp_extract(df1.value,'(DataSource_IP:[0-9]{1,3}[.][0-9]{1,3}[.][0-9]{1,3}[.][0-9]{1,3})',1),'DataSource_IP:',\"\"))\n",
        "\n",
        "df2=df1.drop('value','_c6','year','Day','Month')\n",
        "df2.show()"
      ],
      "metadata": {
        "colab": {
          "base_uri": "https://localhost:8080/"
        },
        "id": "LXkRlwRtW0kq",
        "outputId": "cd212a60-6bce-4cce-e442-e0303d29250b"
      },
      "execution_count": 41,
      "outputs": [
        {
          "output_type": "stream",
          "name": "stdout",
          "text": [
            "+--------+----------+---------------------+------------+--------------------+--------------------+---------+--------------+---------+--------------+-----------------+--------------------+--------------+--------------------+-------------+\n",
            "|    Time|      Date|Data_source_host_name|Log_category|         Attack_type|         Description|Seviority|     Source_ip|User_name|Destination_ip|Desitination_host|        Rule_message|Data_source_ip|    Destination_port|DataSource_IP|\n",
            "+--------+----------+---------------------+------------+--------------------+--------------------+---------+--------------+---------+--------------+-----------------+--------------------+--------------+--------------------+-------------+\n",
            "|07:33:21| 2022-06-1|     TM-JIO-Console-1|      System|Reconnaissance De...|The Agent/Applian...|        6|192.168.83.163|   System|  10.129.76.76|  (sidcpaymeng08)|The Agent/Applian...|  10.129.76.75|7001;17000;17001;...|10.204.52.158|\n",
            "|07:39:01| 2022-06-2|     TM-JIO-Console-1|      System|Reconnaissance De...|The Agent/Applian...|        6|192.168.83.163|   System|  10.129.76.76|  (sidcpaymeng08)|The Agent/Applian...|  10.129.76.75|7001;17000;17001;...|10.204.52.158|\n",
            "|07:44:42| 2022-06-3|     TM-JIO-Console-1|      System|Reconnaissance De...|The Agent/Applian...|        6|192.168.83.163|   System|  10.129.76.76|  (sidcpaymeng08)|The Agent/Applian...|  10.129.76.75|7001;17000;17001;...|10.204.52.158|\n",
            "|07:50:23| 2022-06-4|     TM-JIO-Console-1|      System|Reconnaissance De...|The Agent/Applian...|        6|192.168.83.163|   System|  10.129.76.76|  (sidcpaymeng08)|The Agent/Applian...|  10.129.76.75|7001;17000;17001;...|10.204.52.158|\n",
            "|07:56:04| 2022-06-5|     TM-JIO-Console-1|      System|Reconnaissance De...|The Agent/Applian...|        6|192.168.83.163|   System|  10.129.76.76|  (sidcpaymeng08)|The Agent/Applian...|  10.129.76.75|7001;17000;17001;...|10.204.52.158|\n",
            "|08:01:45| 2022-06-6|     TM-JIO-Console-1|      System|Reconnaissance De...|The Agent/Applian...|        6|192.168.83.163|   System|  10.129.76.76|  (sidcpaymeng08)|The Agent/Applian...|  10.129.76.75|7001;17000;17001;...|10.204.52.158|\n",
            "|08:13:07| 2022-06-8|     TM-JIO-Console-1|      System|Reconnaissance De...|The Agent/Applian...|        6|192.168.83.163|   System|  10.129.76.76|  (sidcpaymeng08)|The Agent/Applian...|  10.129.76.75|7001;17000;17001;...|10.204.52.158|\n",
            "|08:18:48| 2022-06-9|     TM-JIO-Console-1|      System|Reconnaissance De...|The Agent/Applian...|        6|192.168.83.163|   System|  10.129.76.76|  (sidcpaymeng08)|The Agent/Applian...|  10.129.76.75|7001;17000;17001;...|10.204.52.158|\n",
            "|08:24:29|2022-06-10|     TM-JIO-Console-1|      System|Reconnaissance De...|The Agent/Applian...|        6|192.168.83.163|   System|  10.129.76.76|  (sidcpaymeng08)|The Agent/Applian...|  10.129.76.75|7001;17000;17001;...|10.204.52.158|\n",
            "+--------+----------+---------------------+------------+--------------------+--------------------+---------+--------------+---------+--------------+-----------------+--------------------+--------------+--------------------+-------------+\n",
            "\n"
          ]
        }
      ]
    },
    {
      "cell_type": "code",
      "source": [
        "df2=df1.drop('value','_c6','year','Day','Month')\n",
        "df2.show()"
      ],
      "metadata": {
        "colab": {
          "base_uri": "https://localhost:8080/"
        },
        "id": "Bp0CB2AVXTq1",
        "outputId": "947af843-b9ac-485a-a74e-0f8a9e33021e"
      },
      "execution_count": 42,
      "outputs": [
        {
          "output_type": "stream",
          "name": "stdout",
          "text": [
            "+--------+----------+---------------------+------------+--------------------+--------------------+---------+--------------+---------+--------------+-----------------+--------------------+--------------+--------------------+-------------+\n",
            "|    Time|      Date|Data_source_host_name|Log_category|         Attack_type|         Description|Seviority|     Source_ip|User_name|Destination_ip|Desitination_host|        Rule_message|Data_source_ip|    Destination_port|DataSource_IP|\n",
            "+--------+----------+---------------------+------------+--------------------+--------------------+---------+--------------+---------+--------------+-----------------+--------------------+--------------+--------------------+-------------+\n",
            "|07:33:21| 2022-06-1|     TM-JIO-Console-1|      System|Reconnaissance De...|The Agent/Applian...|        6|192.168.83.163|   System|  10.129.76.76|  (sidcpaymeng08)|The Agent/Applian...|  10.129.76.75|7001;17000;17001;...|10.204.52.158|\n",
            "|07:39:01| 2022-06-2|     TM-JIO-Console-1|      System|Reconnaissance De...|The Agent/Applian...|        6|192.168.83.163|   System|  10.129.76.76|  (sidcpaymeng08)|The Agent/Applian...|  10.129.76.75|7001;17000;17001;...|10.204.52.158|\n",
            "|07:44:42| 2022-06-3|     TM-JIO-Console-1|      System|Reconnaissance De...|The Agent/Applian...|        6|192.168.83.163|   System|  10.129.76.76|  (sidcpaymeng08)|The Agent/Applian...|  10.129.76.75|7001;17000;17001;...|10.204.52.158|\n",
            "|07:50:23| 2022-06-4|     TM-JIO-Console-1|      System|Reconnaissance De...|The Agent/Applian...|        6|192.168.83.163|   System|  10.129.76.76|  (sidcpaymeng08)|The Agent/Applian...|  10.129.76.75|7001;17000;17001;...|10.204.52.158|\n",
            "|07:56:04| 2022-06-5|     TM-JIO-Console-1|      System|Reconnaissance De...|The Agent/Applian...|        6|192.168.83.163|   System|  10.129.76.76|  (sidcpaymeng08)|The Agent/Applian...|  10.129.76.75|7001;17000;17001;...|10.204.52.158|\n",
            "|08:01:45| 2022-06-6|     TM-JIO-Console-1|      System|Reconnaissance De...|The Agent/Applian...|        6|192.168.83.163|   System|  10.129.76.76|  (sidcpaymeng08)|The Agent/Applian...|  10.129.76.75|7001;17000;17001;...|10.204.52.158|\n",
            "|08:13:07| 2022-06-8|     TM-JIO-Console-1|      System|Reconnaissance De...|The Agent/Applian...|        6|192.168.83.163|   System|  10.129.76.76|  (sidcpaymeng08)|The Agent/Applian...|  10.129.76.75|7001;17000;17001;...|10.204.52.158|\n",
            "|08:18:48| 2022-06-9|     TM-JIO-Console-1|      System|Reconnaissance De...|The Agent/Applian...|        6|192.168.83.163|   System|  10.129.76.76|  (sidcpaymeng08)|The Agent/Applian...|  10.129.76.75|7001;17000;17001;...|10.204.52.158|\n",
            "|08:24:29|2022-06-10|     TM-JIO-Console-1|      System|Reconnaissance De...|The Agent/Applian...|        6|192.168.83.163|   System|  10.129.76.76|  (sidcpaymeng08)|The Agent/Applian...|  10.129.76.75|7001;17000;17001;...|10.204.52.158|\n",
            "+--------+----------+---------------------+------------+--------------------+--------------------+---------+--------------+---------+--------------+-----------------+--------------------+--------------+--------------------+-------------+\n",
            "\n"
          ]
        }
      ]
    },
    {
      "cell_type": "code",
      "source": [
        ""
      ],
      "metadata": {
        "id": "AjbNm299Xu-d"
      },
      "execution_count": null,
      "outputs": []
    }
  ]
}