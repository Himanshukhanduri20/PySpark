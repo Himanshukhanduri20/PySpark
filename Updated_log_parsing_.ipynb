{
  "nbformat": 4,
  "nbformat_minor": 0,
  "metadata": {
    "colab": {
      "name": "Updated log_parsing .ipynb",
      "provenance": [],
      "authorship_tag": "ABX9TyMGnV+c1TZ0OlbKgqtIFMGt",
      "include_colab_link": true
    },
    "kernelspec": {
      "name": "python3",
      "display_name": "Python 3"
    },
    "language_info": {
      "name": "python"
    }
  },
  "cells": [
    {
      "cell_type": "markdown",
      "metadata": {
        "id": "view-in-github",
        "colab_type": "text"
      },
      "source": [
        "<a href=\"https://colab.research.google.com/github/Himanshukhanduri20/PySpark/blob/main/Updated_log_parsing_.ipynb\" target=\"_parent\"><img src=\"https://colab.research.google.com/assets/colab-badge.svg\" alt=\"Open In Colab\"/></a>"
      ]
    },
    {
      "cell_type": "markdown",
      "source": [
        "Connecting with Gdrive to read data"
      ],
      "metadata": {
        "id": "wIz9DJMW3d_g"
      }
    },
    {
      "cell_type": "code",
      "execution_count": 2,
      "metadata": {
        "colab": {
          "base_uri": "https://localhost:8080/"
        },
        "id": "Rbp3yGpK03dS",
        "outputId": "d2253c30-1151-4ec9-953f-99ec62f84b12"
      },
      "outputs": [
        {
          "output_type": "stream",
          "name": "stdout",
          "text": [
            "Mounted at /content/drive\n"
          ]
        }
      ],
      "source": [
        "from google.colab import drive\n",
        "drive.mount('/content/drive')"
      ]
    },
    {
      "cell_type": "code",
      "source": [
        "#if data is in Zip format then it can be unzip using this \n",
        "\n",
        "#!unzip \"/content/drive/My Drive/my_data_zip_file.zip\""
      ],
      "metadata": {
        "id": "daUie1fp1cfV"
      },
      "execution_count": null,
      "outputs": []
    },
    {
      "cell_type": "code",
      "source": [
        "#Spark is written in the Scala programming language and requires the Java Virtual Machine (JVM) to run.\n",
        "!apt-get install openjdk-8-jdk-headless -qq > /dev/null"
      ],
      "metadata": {
        "id": "5jucMe8809Kd"
      },
      "execution_count": 1,
      "outputs": []
    },
    {
      "cell_type": "code",
      "source": [
        "#install Apache Spark  with Hadoop \n",
        "!wget -q https://archive.apache.org/dist/spark/spark-3.0.0/spark-3.0.0-bin-hadoop3.2.tgz\n"
      ],
      "metadata": {
        "id": "hkRfboPc10o8"
      },
      "execution_count": 2,
      "outputs": []
    },
    {
      "cell_type": "code",
      "source": [
        "#need to unzip that folder.\n",
        "!tar xf spark-3.0.0-bin-hadoop3.2.tgz"
      ],
      "metadata": {
        "id": "x3H7Ww6A15h6"
      },
      "execution_count": 3,
      "outputs": []
    },
    {
      "cell_type": "code",
      "source": [
        "# set your spark folder to your system path environment. \n",
        "#This will enable us to run Pyspark in the Colab environment\n",
        "import os\n",
        "os.environ[\"JAVA_HOME\"] = \"/usr/lib/jvm/java-8-openjdk-amd64\"\n",
        "os.environ[\"SPARK_HOME\"] = \"/content/spark-3.0.0-bin-hadoop3.2\""
      ],
      "metadata": {
        "id": "Qh-40f1q4wyR"
      },
      "execution_count": 4,
      "outputs": []
    },
    {
      "cell_type": "code",
      "source": [
        "#It will locate Spark on the system and import it as a regular library.\n",
        "!pip install -q findspark"
      ],
      "metadata": {
        "id": "2AgpVikz1-1Z"
      },
      "execution_count": 5,
      "outputs": []
    },
    {
      "cell_type": "code",
      "source": [
        "import findspark\n",
        "findspark.init()"
      ],
      "metadata": {
        "id": "f1L5redC5MSx"
      },
      "execution_count": 6,
      "outputs": []
    },
    {
      "cell_type": "code",
      "source": [
        " #If you want to know the location where Spark is installed, use findspark.find()\n",
        " findspark.find()\n"
      ],
      "metadata": {
        "colab": {
          "base_uri": "https://localhost:8080/",
          "height": 35
        },
        "id": "pv55NZ8h5eeU",
        "outputId": "09b4433d-5224-4cd3-fec4-114de4916c35"
      },
      "execution_count": 7,
      "outputs": [
        {
          "output_type": "execute_result",
          "data": {
            "text/plain": [
              "'/content/spark-3.0.0-bin-hadoop3.2'"
            ],
            "application/vnd.google.colaboratory.intrinsic+json": {
              "type": "string"
            }
          },
          "metadata": {},
          "execution_count": 7
        }
      ]
    },
    {
      "cell_type": "code",
      "source": [
        "#Now, we can import SparkSession from pyspark.sql and create a SparkSession, which is the entry point to Spark.\n",
        "from pyspark.sql import SparkSession\n",
        "\n",
        "spark = SparkSession.builder\\\n",
        "        .master(\"local\")\\\n",
        "        .appName(\"Colab\")\\\n",
        "        .config('spark.ui.port', '4050')\\\n",
        "        .getOrCreate()"
      ],
      "metadata": {
        "id": "kswDoeq-5upU"
      },
      "execution_count": 8,
      "outputs": []
    },
    {
      "cell_type": "code",
      "source": [
        "spark  #printing sparksession variable"
      ],
      "metadata": {
        "colab": {
          "base_uri": "https://localhost:8080/",
          "height": 219
        },
        "id": "ZJz5zNbS6OPh",
        "outputId": "0fa1d9af-a9aa-4e9b-fa4e-f85f10d93149"
      },
      "execution_count": 9,
      "outputs": [
        {
          "output_type": "execute_result",
          "data": {
            "text/plain": [
              "<pyspark.sql.session.SparkSession at 0x7f6b4c365ad0>"
            ],
            "text/html": [
              "\n",
              "            <div>\n",
              "                <p><b>SparkSession - in-memory</b></p>\n",
              "                \n",
              "        <div>\n",
              "            <p><b>SparkContext</b></p>\n",
              "\n",
              "            <p><a href=\"http://a80be790f9ed:4050\">Spark UI</a></p>\n",
              "\n",
              "            <dl>\n",
              "              <dt>Version</dt>\n",
              "                <dd><code>v3.0.0</code></dd>\n",
              "              <dt>Master</dt>\n",
              "                <dd><code>local</code></dd>\n",
              "              <dt>AppName</dt>\n",
              "                <dd><code>Colab</code></dd>\n",
              "            </dl>\n",
              "        </div>\n",
              "        \n",
              "            </div>\n",
              "        "
            ]
          },
          "metadata": {},
          "execution_count": 9
        }
      ]
    },
    {
      "cell_type": "code",
      "source": [
        "#if you want to view the Spark UI\n",
        "!wget https://bin.equinox.io/c/4VmDzA7iaHb/ngrok-stable-linux-amd64.zip\n",
        "!unzip ngrok-stable-linux-amd64.zip\n",
        "get_ipython().system_raw('./ngrok http 4050 &')\n",
        "!curl -s http://localhost:4040/api/tunnels"
      ],
      "metadata": {
        "colab": {
          "base_uri": "https://localhost:8080/"
        },
        "id": "b8KJ1Pnk6UI8",
        "outputId": "845e36b5-e5b4-42b4-9350-67dfe624fc06"
      },
      "execution_count": 10,
      "outputs": [
        {
          "output_type": "stream",
          "name": "stdout",
          "text": [
            "--2022-06-17 04:34:28--  https://bin.equinox.io/c/4VmDzA7iaHb/ngrok-stable-linux-amd64.zip\n",
            "Resolving bin.equinox.io (bin.equinox.io)... 54.237.133.81, 52.202.168.65, 54.161.241.46, ...\n",
            "Connecting to bin.equinox.io (bin.equinox.io)|54.237.133.81|:443... connected.\n",
            "HTTP request sent, awaiting response... 200 OK\n",
            "Length: 13832437 (13M) [application/octet-stream]\n",
            "Saving to: ‘ngrok-stable-linux-amd64.zip’\n",
            "\n",
            "ngrok-stable-linux- 100%[===================>]  13.19M  8.33MB/s    in 1.6s    \n",
            "\n",
            "2022-06-17 04:34:30 (8.33 MB/s) - ‘ngrok-stable-linux-amd64.zip’ saved [13832437/13832437]\n",
            "\n",
            "Archive:  ngrok-stable-linux-amd64.zip\n",
            "  inflating: ngrok                   \n",
            "{\"tunnels\":[],\"uri\":\"/api/tunnels\"}\n"
          ]
        }
      ]
    },
    {
      "cell_type": "code",
      "source": [
        "#df = spark.read.format(\"text\").load(\"/content/sample_data/example_log.log\",sep=\"|\")\n",
        "df = spark.read.csv(\"/content/sample_data/example_log.log\",sep=\"|\")"
      ],
      "metadata": {
        "id": "PAgQ4wZ26m4i"
      },
      "execution_count": 105,
      "outputs": []
    },
    {
      "cell_type": "code",
      "source": [
        "df.show()"
      ],
      "metadata": {
        "colab": {
          "base_uri": "https://localhost:8080/"
        },
        "id": "PwdrNk6v-Ax7",
        "outputId": "3aeb5cbd-7d3a-46e3-edfc-68fdc9b362c2"
      },
      "execution_count": 106,
      "outputs": [
        {
          "output_type": "stream",
          "name": "stdout",
          "text": [
            "+--------------------+-----------+--------------------+---------+---+--------------------+\n",
            "|                 _c0|        _c1|                 _c2|      _c3|_c4|                 _c5|\n",
            "+--------------------+-----------+--------------------+---------+---+--------------------+\n",
            "|<166>Jun  1 07:33...|Trend Micro|Deep Security Man...|50.0.1189|851|cat=System#011nam...|\n",
            "|<166>Jun  1 07:39...|Trend Micro|Deep Security Man...|50.0.1189|851|cat=System#011nam...|\n",
            "|<166>Jun  1 07:44...|Trend Micro|Deep Security Man...|50.0.1189|851|cat=System#011nam...|\n",
            "|<166>Jun  1 07:50...|Trend Micro|Deep Security Man...|50.0.1189|851|cat=System#011nam...|\n",
            "|<166>Jun  1 07:56...|Trend Micro|Deep Security Man...|50.0.1189|851|cat=System#011nam...|\n",
            "|<166>Jun  1 08:01...|Trend Micro|Deep Security Man...|50.0.1189|851|cat=System#011nam...|\n",
            "|<166>Jun  1 08:07...|Trend Micro|Deep Security Man...|50.0.1189|851|cat=System#011nam...|\n",
            "|<166>Jun  1 08:13...|Trend Micro|Deep Security Man...|50.0.1189|851|cat=System#011nam...|\n",
            "|<166>Jun  1 08:18...|Trend Micro|Deep Security Man...|50.0.1189|851|cat=System#011nam...|\n",
            "|<166>Jun  1 08:24...|Trend Micro|Deep Security Man...|50.0.1189|851|cat=System#011nam...|\n",
            "+--------------------+-----------+--------------------+---------+---+--------------------+\n",
            "\n"
          ]
        }
      ]
    },
    {
      "cell_type": "code",
      "source": [
        "import pandas as pd\n",
        "df.limit(5).toPandas()"
      ],
      "metadata": {
        "colab": {
          "base_uri": "https://localhost:8080/",
          "height": 250
        },
        "id": "mqpik7nX-Eu2",
        "outputId": "15d6d476-4fbc-4910-aaba-02104fb2371b"
      },
      "execution_count": 107,
      "outputs": [
        {
          "output_type": "execute_result",
          "data": {
            "text/plain": [
              "                                               _c0          _c1  \\\n",
              "0  <166>Jun  1 07:33:21 TM-JIO-Console-1 LEEF: 2.0  Trend Micro   \n",
              "1  <166>Jun  1 07:39:01 TM-JIO-Console-1 LEEF: 2.0  Trend Micro   \n",
              "2  <166>Jun  1 07:44:42 TM-JIO-Console-1 LEEF: 2.0  Trend Micro   \n",
              "3  <166>Jun  1 07:50:23 TM-JIO-Console-1 LEEF: 2.0  Trend Micro   \n",
              "4  <166>Jun  1 07:56:04 TM-JIO-Console-1 LEEF: 2.0  Trend Micro   \n",
              "\n",
              "                     _c2        _c3  _c4  \\\n",
              "0  Deep Security Manager  50.0.1189  851   \n",
              "1  Deep Security Manager  50.0.1189  851   \n",
              "2  Deep Security Manager  50.0.1189  851   \n",
              "3  Deep Security Manager  50.0.1189  851   \n",
              "4  Deep Security Manager  50.0.1189  851   \n",
              "\n",
              "                                                 _c5  \n",
              "0  cat=System#011name=Reconnaissance Detected: Ne...  \n",
              "1  cat=System#011name=Reconnaissance Detected: Ne...  \n",
              "2  cat=System#011name=Reconnaissance Detected: Ne...  \n",
              "3  cat=System#011name=Reconnaissance Detected: Ne...  \n",
              "4  cat=System#011name=Reconnaissance Detected: Ne...  "
            ],
            "text/html": [
              "\n",
              "  <div id=\"df-ae6d7a69-74ce-479a-9ba7-24b61e5293d7\">\n",
              "    <div class=\"colab-df-container\">\n",
              "      <div>\n",
              "<style scoped>\n",
              "    .dataframe tbody tr th:only-of-type {\n",
              "        vertical-align: middle;\n",
              "    }\n",
              "\n",
              "    .dataframe tbody tr th {\n",
              "        vertical-align: top;\n",
              "    }\n",
              "\n",
              "    .dataframe thead th {\n",
              "        text-align: right;\n",
              "    }\n",
              "</style>\n",
              "<table border=\"1\" class=\"dataframe\">\n",
              "  <thead>\n",
              "    <tr style=\"text-align: right;\">\n",
              "      <th></th>\n",
              "      <th>_c0</th>\n",
              "      <th>_c1</th>\n",
              "      <th>_c2</th>\n",
              "      <th>_c3</th>\n",
              "      <th>_c4</th>\n",
              "      <th>_c5</th>\n",
              "    </tr>\n",
              "  </thead>\n",
              "  <tbody>\n",
              "    <tr>\n",
              "      <th>0</th>\n",
              "      <td>&lt;166&gt;Jun  1 07:33:21 TM-JIO-Console-1 LEEF: 2.0</td>\n",
              "      <td>Trend Micro</td>\n",
              "      <td>Deep Security Manager</td>\n",
              "      <td>50.0.1189</td>\n",
              "      <td>851</td>\n",
              "      <td>cat=System#011name=Reconnaissance Detected: Ne...</td>\n",
              "    </tr>\n",
              "    <tr>\n",
              "      <th>1</th>\n",
              "      <td>&lt;166&gt;Jun  1 07:39:01 TM-JIO-Console-1 LEEF: 2.0</td>\n",
              "      <td>Trend Micro</td>\n",
              "      <td>Deep Security Manager</td>\n",
              "      <td>50.0.1189</td>\n",
              "      <td>851</td>\n",
              "      <td>cat=System#011name=Reconnaissance Detected: Ne...</td>\n",
              "    </tr>\n",
              "    <tr>\n",
              "      <th>2</th>\n",
              "      <td>&lt;166&gt;Jun  1 07:44:42 TM-JIO-Console-1 LEEF: 2.0</td>\n",
              "      <td>Trend Micro</td>\n",
              "      <td>Deep Security Manager</td>\n",
              "      <td>50.0.1189</td>\n",
              "      <td>851</td>\n",
              "      <td>cat=System#011name=Reconnaissance Detected: Ne...</td>\n",
              "    </tr>\n",
              "    <tr>\n",
              "      <th>3</th>\n",
              "      <td>&lt;166&gt;Jun  1 07:50:23 TM-JIO-Console-1 LEEF: 2.0</td>\n",
              "      <td>Trend Micro</td>\n",
              "      <td>Deep Security Manager</td>\n",
              "      <td>50.0.1189</td>\n",
              "      <td>851</td>\n",
              "      <td>cat=System#011name=Reconnaissance Detected: Ne...</td>\n",
              "    </tr>\n",
              "    <tr>\n",
              "      <th>4</th>\n",
              "      <td>&lt;166&gt;Jun  1 07:56:04 TM-JIO-Console-1 LEEF: 2.0</td>\n",
              "      <td>Trend Micro</td>\n",
              "      <td>Deep Security Manager</td>\n",
              "      <td>50.0.1189</td>\n",
              "      <td>851</td>\n",
              "      <td>cat=System#011name=Reconnaissance Detected: Ne...</td>\n",
              "    </tr>\n",
              "  </tbody>\n",
              "</table>\n",
              "</div>\n",
              "      <button class=\"colab-df-convert\" onclick=\"convertToInteractive('df-ae6d7a69-74ce-479a-9ba7-24b61e5293d7')\"\n",
              "              title=\"Convert this dataframe to an interactive table.\"\n",
              "              style=\"display:none;\">\n",
              "        \n",
              "  <svg xmlns=\"http://www.w3.org/2000/svg\" height=\"24px\"viewBox=\"0 0 24 24\"\n",
              "       width=\"24px\">\n",
              "    <path d=\"M0 0h24v24H0V0z\" fill=\"none\"/>\n",
              "    <path d=\"M18.56 5.44l.94 2.06.94-2.06 2.06-.94-2.06-.94-.94-2.06-.94 2.06-2.06.94zm-11 1L8.5 8.5l.94-2.06 2.06-.94-2.06-.94L8.5 2.5l-.94 2.06-2.06.94zm10 10l.94 2.06.94-2.06 2.06-.94-2.06-.94-.94-2.06-.94 2.06-2.06.94z\"/><path d=\"M17.41 7.96l-1.37-1.37c-.4-.4-.92-.59-1.43-.59-.52 0-1.04.2-1.43.59L10.3 9.45l-7.72 7.72c-.78.78-.78 2.05 0 2.83L4 21.41c.39.39.9.59 1.41.59.51 0 1.02-.2 1.41-.59l7.78-7.78 2.81-2.81c.8-.78.8-2.07 0-2.86zM5.41 20L4 18.59l7.72-7.72 1.47 1.35L5.41 20z\"/>\n",
              "  </svg>\n",
              "      </button>\n",
              "      \n",
              "  <style>\n",
              "    .colab-df-container {\n",
              "      display:flex;\n",
              "      flex-wrap:wrap;\n",
              "      gap: 12px;\n",
              "    }\n",
              "\n",
              "    .colab-df-convert {\n",
              "      background-color: #E8F0FE;\n",
              "      border: none;\n",
              "      border-radius: 50%;\n",
              "      cursor: pointer;\n",
              "      display: none;\n",
              "      fill: #1967D2;\n",
              "      height: 32px;\n",
              "      padding: 0 0 0 0;\n",
              "      width: 32px;\n",
              "    }\n",
              "\n",
              "    .colab-df-convert:hover {\n",
              "      background-color: #E2EBFA;\n",
              "      box-shadow: 0px 1px 2px rgba(60, 64, 67, 0.3), 0px 1px 3px 1px rgba(60, 64, 67, 0.15);\n",
              "      fill: #174EA6;\n",
              "    }\n",
              "\n",
              "    [theme=dark] .colab-df-convert {\n",
              "      background-color: #3B4455;\n",
              "      fill: #D2E3FC;\n",
              "    }\n",
              "\n",
              "    [theme=dark] .colab-df-convert:hover {\n",
              "      background-color: #434B5C;\n",
              "      box-shadow: 0px 1px 3px 1px rgba(0, 0, 0, 0.15);\n",
              "      filter: drop-shadow(0px 1px 2px rgba(0, 0, 0, 0.3));\n",
              "      fill: #FFFFFF;\n",
              "    }\n",
              "  </style>\n",
              "\n",
              "      <script>\n",
              "        const buttonEl =\n",
              "          document.querySelector('#df-ae6d7a69-74ce-479a-9ba7-24b61e5293d7 button.colab-df-convert');\n",
              "        buttonEl.style.display =\n",
              "          google.colab.kernel.accessAllowed ? 'block' : 'none';\n",
              "\n",
              "        async function convertToInteractive(key) {\n",
              "          const element = document.querySelector('#df-ae6d7a69-74ce-479a-9ba7-24b61e5293d7');\n",
              "          const dataTable =\n",
              "            await google.colab.kernel.invokeFunction('convertToInteractive',\n",
              "                                                     [key], {});\n",
              "          if (!dataTable) return;\n",
              "\n",
              "          const docLinkHtml = 'Like what you see? Visit the ' +\n",
              "            '<a target=\"_blank\" href=https://colab.research.google.com/notebooks/data_table.ipynb>data table notebook</a>'\n",
              "            + ' to learn more about interactive tables.';\n",
              "          element.innerHTML = '';\n",
              "          dataTable['output_type'] = 'display_data';\n",
              "          await google.colab.output.renderOutput(dataTable, element);\n",
              "          const docLink = document.createElement('div');\n",
              "          docLink.innerHTML = docLinkHtml;\n",
              "          element.appendChild(docLink);\n",
              "        }\n",
              "      </script>\n",
              "    </div>\n",
              "  </div>\n",
              "  "
            ]
          },
          "metadata": {},
          "execution_count": 107
        }
      ]
    },
    {
      "cell_type": "code",
      "source": [
        "import pyspark.sql.functions as F\n",
        "df1=df.withColumn(\"current_date\",F.current_date())\n",
        "df1=df1.withColumn(\"year\",F.regexp_extract(df1.current_date,\"([\\\\d]+)\",1)).drop(df1.current_date)\n",
        "df1.show()\n"
      ],
      "metadata": {
        "id": "6fkoMyVA75bE",
        "outputId": "a866c7d6-efb7-4e3d-9a5f-6e1df69c29a8",
        "colab": {
          "base_uri": "https://localhost:8080/"
        }
      },
      "execution_count": 108,
      "outputs": [
        {
          "output_type": "stream",
          "name": "stdout",
          "text": [
            "+--------------------+-----------+--------------------+---------+---+--------------------+----+\n",
            "|                 _c0|        _c1|                 _c2|      _c3|_c4|                 _c5|year|\n",
            "+--------------------+-----------+--------------------+---------+---+--------------------+----+\n",
            "|<166>Jun  1 07:33...|Trend Micro|Deep Security Man...|50.0.1189|851|cat=System#011nam...|2022|\n",
            "|<166>Jun  1 07:39...|Trend Micro|Deep Security Man...|50.0.1189|851|cat=System#011nam...|2022|\n",
            "|<166>Jun  1 07:44...|Trend Micro|Deep Security Man...|50.0.1189|851|cat=System#011nam...|2022|\n",
            "|<166>Jun  1 07:50...|Trend Micro|Deep Security Man...|50.0.1189|851|cat=System#011nam...|2022|\n",
            "|<166>Jun  1 07:56...|Trend Micro|Deep Security Man...|50.0.1189|851|cat=System#011nam...|2022|\n",
            "|<166>Jun  1 08:01...|Trend Micro|Deep Security Man...|50.0.1189|851|cat=System#011nam...|2022|\n",
            "|<166>Jun  1 08:07...|Trend Micro|Deep Security Man...|50.0.1189|851|cat=System#011nam...|2022|\n",
            "|<166>Jun  1 08:13...|Trend Micro|Deep Security Man...|50.0.1189|851|cat=System#011nam...|2022|\n",
            "|<166>Jun  1 08:18...|Trend Micro|Deep Security Man...|50.0.1189|851|cat=System#011nam...|2022|\n",
            "|<166>Jun  1 08:24...|Trend Micro|Deep Security Man...|50.0.1189|851|cat=System#011nam...|2022|\n",
            "+--------------------+-----------+--------------------+---------+---+--------------------+----+\n",
            "\n"
          ]
        }
      ]
    },
    {
      "cell_type": "code",
      "source": [
        "\n",
        "\n",
        "\n",
        "import pyspark.sql.functions as F\n",
        "df1=df1.withColumn(\"_c6\",F.regexp_extract(df._c0,'(>[a-zA-Z]+\\s*\\d+\\s*[\\d+:]+)',1))"
      ],
      "metadata": {
        "id": "Qjdv_unqDRhN"
      },
      "execution_count": 109,
      "outputs": []
    },
    {
      "cell_type": "code",
      "source": [
        "df1.show()"
      ],
      "metadata": {
        "colab": {
          "base_uri": "https://localhost:8080/"
        },
        "id": "h9EJD7RfIGRe",
        "outputId": "ae987ab5-0780-4463-b2eb-3ba17f29d2b8"
      },
      "execution_count": 110,
      "outputs": [
        {
          "output_type": "stream",
          "name": "stdout",
          "text": [
            "+--------------------+-----------+--------------------+---------+---+--------------------+----+----------------+\n",
            "|                 _c0|        _c1|                 _c2|      _c3|_c4|                 _c5|year|             _c6|\n",
            "+--------------------+-----------+--------------------+---------+---+--------------------+----+----------------+\n",
            "|<166>Jun  1 07:33...|Trend Micro|Deep Security Man...|50.0.1189|851|cat=System#011nam...|2022|>Jun  1 07:33:21|\n",
            "|<166>Jun  1 07:39...|Trend Micro|Deep Security Man...|50.0.1189|851|cat=System#011nam...|2022|>Jun  1 07:39:01|\n",
            "|<166>Jun  1 07:44...|Trend Micro|Deep Security Man...|50.0.1189|851|cat=System#011nam...|2022|>Jun  1 07:44:42|\n",
            "|<166>Jun  1 07:50...|Trend Micro|Deep Security Man...|50.0.1189|851|cat=System#011nam...|2022|>Jun  1 07:50:23|\n",
            "|<166>Jun  1 07:56...|Trend Micro|Deep Security Man...|50.0.1189|851|cat=System#011nam...|2022|>Jun  1 07:56:04|\n",
            "|<166>Jun  1 08:01...|Trend Micro|Deep Security Man...|50.0.1189|851|cat=System#011nam...|2022|>Jun  1 08:01:45|\n",
            "|<166>Jun  1 08:07...|Trend Micro|Deep Security Man...|50.0.1189|851|cat=System#011nam...|2022|>Jun  1 08:07:26|\n",
            "|<166>Jun  1 08:13...|Trend Micro|Deep Security Man...|50.0.1189|851|cat=System#011nam...|2022|>Jun  1 08:13:07|\n",
            "|<166>Jun  1 08:18...|Trend Micro|Deep Security Man...|50.0.1189|851|cat=System#011nam...|2022|>Jun  1 08:18:48|\n",
            "|<166>Jun  1 08:24...|Trend Micro|Deep Security Man...|50.0.1189|851|cat=System#011nam...|2022|>Jun  1 08:24:29|\n",
            "+--------------------+-----------+--------------------+---------+---+--------------------+----+----------------+\n",
            "\n"
          ]
        }
      ]
    },
    {
      "cell_type": "code",
      "source": [
        "df1=df1.withColumn(\"Time\",F.regexp_extract(df1._c6,'([\\d+:]+\\d)',1))"
      ],
      "metadata": {
        "id": "c-AoJEgpEoaI"
      },
      "execution_count": 111,
      "outputs": []
    },
    {
      "cell_type": "code",
      "source": [
        "\n",
        "df1.show()"
      ],
      "metadata": {
        "colab": {
          "base_uri": "https://localhost:8080/"
        },
        "id": "iVPNC3C4EsGe",
        "outputId": "d974c9ec-91b3-4760-b0f5-ce9212bd5aa5"
      },
      "execution_count": 112,
      "outputs": [
        {
          "output_type": "stream",
          "name": "stdout",
          "text": [
            "+--------------------+-----------+--------------------+---------+---+--------------------+----+----------------+--------+\n",
            "|                 _c0|        _c1|                 _c2|      _c3|_c4|                 _c5|year|             _c6|    Time|\n",
            "+--------------------+-----------+--------------------+---------+---+--------------------+----+----------------+--------+\n",
            "|<166>Jun  1 07:33...|Trend Micro|Deep Security Man...|50.0.1189|851|cat=System#011nam...|2022|>Jun  1 07:33:21|07:33:21|\n",
            "|<166>Jun  1 07:39...|Trend Micro|Deep Security Man...|50.0.1189|851|cat=System#011nam...|2022|>Jun  1 07:39:01|07:39:01|\n",
            "|<166>Jun  1 07:44...|Trend Micro|Deep Security Man...|50.0.1189|851|cat=System#011nam...|2022|>Jun  1 07:44:42|07:44:42|\n",
            "|<166>Jun  1 07:50...|Trend Micro|Deep Security Man...|50.0.1189|851|cat=System#011nam...|2022|>Jun  1 07:50:23|07:50:23|\n",
            "|<166>Jun  1 07:56...|Trend Micro|Deep Security Man...|50.0.1189|851|cat=System#011nam...|2022|>Jun  1 07:56:04|07:56:04|\n",
            "|<166>Jun  1 08:01...|Trend Micro|Deep Security Man...|50.0.1189|851|cat=System#011nam...|2022|>Jun  1 08:01:45|08:01:45|\n",
            "|<166>Jun  1 08:07...|Trend Micro|Deep Security Man...|50.0.1189|851|cat=System#011nam...|2022|>Jun  1 08:07:26|08:07:26|\n",
            "|<166>Jun  1 08:13...|Trend Micro|Deep Security Man...|50.0.1189|851|cat=System#011nam...|2022|>Jun  1 08:13:07|08:13:07|\n",
            "|<166>Jun  1 08:18...|Trend Micro|Deep Security Man...|50.0.1189|851|cat=System#011nam...|2022|>Jun  1 08:18:48|08:18:48|\n",
            "|<166>Jun  1 08:24...|Trend Micro|Deep Security Man...|50.0.1189|851|cat=System#011nam...|2022|>Jun  1 08:24:29|08:24:29|\n",
            "+--------------------+-----------+--------------------+---------+---+--------------------+----+----------------+--------+\n",
            "\n"
          ]
        }
      ]
    },
    {
      "cell_type": "code",
      "source": [
        "df1=df1.withColumn('_c6', F.regexp_replace('_c6', '>', '')).withColumn('Date', F.regexp_replace('_c6', '([\\d+:]+\\d)', '')).withColumn('Data_source_host_name', F.regexp_extract(df1._c0, '([a-zA-Z]+[-][a-zA-Z]+[-][a-zA-Z]+[-]\\d+)',1))\n",
        "\n",
        "df1.show()"
      ],
      "metadata": {
        "colab": {
          "base_uri": "https://localhost:8080/"
        },
        "id": "jcVuHxRkIjzt",
        "outputId": "13e5809d-525f-4775-e400-dc3668f83fc1"
      },
      "execution_count": 113,
      "outputs": [
        {
          "output_type": "stream",
          "name": "stdout",
          "text": [
            "+--------------------+-----------+--------------------+---------+---+--------------------+----+---------------+--------+-------+---------------------+\n",
            "|                 _c0|        _c1|                 _c2|      _c3|_c4|                 _c5|year|            _c6|    Time|   Date|Data_source_host_name|\n",
            "+--------------------+-----------+--------------------+---------+---+--------------------+----+---------------+--------+-------+---------------------+\n",
            "|<166>Jun  1 07:33...|Trend Micro|Deep Security Man...|50.0.1189|851|cat=System#011nam...|2022|Jun  1 07:33:21|07:33:21|Jun  1 |     TM-JIO-Console-1|\n",
            "|<166>Jun  1 07:39...|Trend Micro|Deep Security Man...|50.0.1189|851|cat=System#011nam...|2022|Jun  1 07:39:01|07:39:01|Jun  1 |     TM-JIO-Console-1|\n",
            "|<166>Jun  1 07:44...|Trend Micro|Deep Security Man...|50.0.1189|851|cat=System#011nam...|2022|Jun  1 07:44:42|07:44:42|Jun  1 |     TM-JIO-Console-1|\n",
            "|<166>Jun  1 07:50...|Trend Micro|Deep Security Man...|50.0.1189|851|cat=System#011nam...|2022|Jun  1 07:50:23|07:50:23|Jun  1 |     TM-JIO-Console-1|\n",
            "|<166>Jun  1 07:56...|Trend Micro|Deep Security Man...|50.0.1189|851|cat=System#011nam...|2022|Jun  1 07:56:04|07:56:04|Jun  1 |     TM-JIO-Console-1|\n",
            "|<166>Jun  1 08:01...|Trend Micro|Deep Security Man...|50.0.1189|851|cat=System#011nam...|2022|Jun  1 08:01:45|08:01:45|Jun  1 |     TM-JIO-Console-1|\n",
            "|<166>Jun  1 08:07...|Trend Micro|Deep Security Man...|50.0.1189|851|cat=System#011nam...|2022|Jun  1 08:07:26|08:07:26|Jun  1 |     TM-JIO-Console-1|\n",
            "|<166>Jun  1 08:13...|Trend Micro|Deep Security Man...|50.0.1189|851|cat=System#011nam...|2022|Jun  1 08:13:07|08:13:07|Jun  1 |     TM-JIO-Console-1|\n",
            "|<166>Jun  1 08:18...|Trend Micro|Deep Security Man...|50.0.1189|851|cat=System#011nam...|2022|Jun  1 08:18:48|08:18:48|Jun  1 |     TM-JIO-Console-1|\n",
            "|<166>Jun  1 08:24...|Trend Micro|Deep Security Man...|50.0.1189|851|cat=System#011nam...|2022|Jun  1 08:24:29|08:24:29|Jun  1 |     TM-JIO-Console-1|\n",
            "+--------------------+-----------+--------------------+---------+---+--------------------+----+---------------+--------+-------+---------------------+\n",
            "\n"
          ]
        }
      ]
    },
    {
      "cell_type": "code",
      "source": [
        "df1=df1.withColumn(\"Day\",F.regexp_extract(df1.Date,'(\\d+)',1))\n",
        "df1=df1.withColumn(\"Month\",F.regexp_extract(df1.Date,'([a-zA-Z]+)',1))\n",
        "df1.show()"
      ],
      "metadata": {
        "id": "cV7IMg4D_jH9",
        "outputId": "d7034817-1206-4eba-cd37-03a26b2929e0",
        "colab": {
          "base_uri": "https://localhost:8080/"
        }
      },
      "execution_count": 118,
      "outputs": [
        {
          "output_type": "stream",
          "name": "stdout",
          "text": [
            "+--------------------+-----------+--------------------+---------+---+--------------------+----+---------------+--------+-------+---------------------+---+-----+\n",
            "|                 _c0|        _c1|                 _c2|      _c3|_c4|                 _c5|year|            _c6|    Time|   Date|Data_source_host_name|Day|Month|\n",
            "+--------------------+-----------+--------------------+---------+---+--------------------+----+---------------+--------+-------+---------------------+---+-----+\n",
            "|<166>Jun  1 07:33...|Trend Micro|Deep Security Man...|50.0.1189|851|cat=System#011nam...|2022|Jun  1 07:33:21|07:33:21|Jun  1 |     TM-JIO-Console-1|  1|  Jun|\n",
            "|<166>Jun  1 07:39...|Trend Micro|Deep Security Man...|50.0.1189|851|cat=System#011nam...|2022|Jun  1 07:39:01|07:39:01|Jun  1 |     TM-JIO-Console-1|  1|  Jun|\n",
            "|<166>Jun  1 07:44...|Trend Micro|Deep Security Man...|50.0.1189|851|cat=System#011nam...|2022|Jun  1 07:44:42|07:44:42|Jun  1 |     TM-JIO-Console-1|  1|  Jun|\n",
            "|<166>Jun  1 07:50...|Trend Micro|Deep Security Man...|50.0.1189|851|cat=System#011nam...|2022|Jun  1 07:50:23|07:50:23|Jun  1 |     TM-JIO-Console-1|  1|  Jun|\n",
            "|<166>Jun  1 07:56...|Trend Micro|Deep Security Man...|50.0.1189|851|cat=System#011nam...|2022|Jun  1 07:56:04|07:56:04|Jun  1 |     TM-JIO-Console-1|  1|  Jun|\n",
            "|<166>Jun  1 08:01...|Trend Micro|Deep Security Man...|50.0.1189|851|cat=System#011nam...|2022|Jun  1 08:01:45|08:01:45|Jun  1 |     TM-JIO-Console-1|  1|  Jun|\n",
            "|<166>Jun  1 08:07...|Trend Micro|Deep Security Man...|50.0.1189|851|cat=System#011nam...|2022|Jun  1 08:07:26|08:07:26|Jun  1 |     TM-JIO-Console-1|  1|  Jun|\n",
            "|<166>Jun  1 08:13...|Trend Micro|Deep Security Man...|50.0.1189|851|cat=System#011nam...|2022|Jun  1 08:13:07|08:13:07|Jun  1 |     TM-JIO-Console-1|  1|  Jun|\n",
            "|<166>Jun  1 08:18...|Trend Micro|Deep Security Man...|50.0.1189|851|cat=System#011nam...|2022|Jun  1 08:18:48|08:18:48|Jun  1 |     TM-JIO-Console-1|  1|  Jun|\n",
            "|<166>Jun  1 08:24...|Trend Micro|Deep Security Man...|50.0.1189|851|cat=System#011nam...|2022|Jun  1 08:24:29|08:24:29|Jun  1 |     TM-JIO-Console-1|  1|  Jun|\n",
            "+--------------------+-----------+--------------------+---------+---+--------------------+----+---------------+--------+-------+---------------------+---+-----+\n",
            "\n"
          ]
        }
      ]
    },
    {
      "cell_type": "code",
      "source": [
        "from pyspark.sql.functions import when\n",
        "from pyspark.sql.functions import col\n",
        "df1=df1.withColumn(\"Month\", when(col(\"month\") == \"Jan\", \"01\").when(col(\"month\") == \"Feb\", \"02\").when(col(\"month\") == \"Mar\", \"03\").when(col(\"month\") == \"Apr\", \"04\").when(col(\"month\") == \"May\", \"05\").when(col(\"month\") == \"Jun\", \"06\").when(col(\"month\") == \"Jul\", \"07\").when(col(\"month\") == \"Aug\", \"08\").when(col(\"month\") == \"Sep\", \"09\").when(col(\"month\") == \"Oct\", \"10\").when(col(\"month\") == \"Nov\", \"10\").when(col(\"month\") == \"Dec\", \"12\").otherwise(\"Unknown\"))\n",
        "df1.show()"
      ],
      "metadata": {
        "id": "gsUfGuijA2BJ",
        "outputId": "f1031c36-8e67-470d-b4d6-4d60d15916a9",
        "colab": {
          "base_uri": "https://localhost:8080/"
        }
      },
      "execution_count": 119,
      "outputs": [
        {
          "output_type": "stream",
          "name": "stdout",
          "text": [
            "+--------------------+-----------+--------------------+---------+---+--------------------+----+---------------+--------+-------+---------------------+---+-----+\n",
            "|                 _c0|        _c1|                 _c2|      _c3|_c4|                 _c5|year|            _c6|    Time|   Date|Data_source_host_name|Day|Month|\n",
            "+--------------------+-----------+--------------------+---------+---+--------------------+----+---------------+--------+-------+---------------------+---+-----+\n",
            "|<166>Jun  1 07:33...|Trend Micro|Deep Security Man...|50.0.1189|851|cat=System#011nam...|2022|Jun  1 07:33:21|07:33:21|Jun  1 |     TM-JIO-Console-1|  1|   06|\n",
            "|<166>Jun  1 07:39...|Trend Micro|Deep Security Man...|50.0.1189|851|cat=System#011nam...|2022|Jun  1 07:39:01|07:39:01|Jun  1 |     TM-JIO-Console-1|  1|   06|\n",
            "|<166>Jun  1 07:44...|Trend Micro|Deep Security Man...|50.0.1189|851|cat=System#011nam...|2022|Jun  1 07:44:42|07:44:42|Jun  1 |     TM-JIO-Console-1|  1|   06|\n",
            "|<166>Jun  1 07:50...|Trend Micro|Deep Security Man...|50.0.1189|851|cat=System#011nam...|2022|Jun  1 07:50:23|07:50:23|Jun  1 |     TM-JIO-Console-1|  1|   06|\n",
            "|<166>Jun  1 07:56...|Trend Micro|Deep Security Man...|50.0.1189|851|cat=System#011nam...|2022|Jun  1 07:56:04|07:56:04|Jun  1 |     TM-JIO-Console-1|  1|   06|\n",
            "|<166>Jun  1 08:01...|Trend Micro|Deep Security Man...|50.0.1189|851|cat=System#011nam...|2022|Jun  1 08:01:45|08:01:45|Jun  1 |     TM-JIO-Console-1|  1|   06|\n",
            "|<166>Jun  1 08:07...|Trend Micro|Deep Security Man...|50.0.1189|851|cat=System#011nam...|2022|Jun  1 08:07:26|08:07:26|Jun  1 |     TM-JIO-Console-1|  1|   06|\n",
            "|<166>Jun  1 08:13...|Trend Micro|Deep Security Man...|50.0.1189|851|cat=System#011nam...|2022|Jun  1 08:13:07|08:13:07|Jun  1 |     TM-JIO-Console-1|  1|   06|\n",
            "|<166>Jun  1 08:18...|Trend Micro|Deep Security Man...|50.0.1189|851|cat=System#011nam...|2022|Jun  1 08:18:48|08:18:48|Jun  1 |     TM-JIO-Console-1|  1|   06|\n",
            "|<166>Jun  1 08:24...|Trend Micro|Deep Security Man...|50.0.1189|851|cat=System#011nam...|2022|Jun  1 08:24:29|08:24:29|Jun  1 |     TM-JIO-Console-1|  1|   06|\n",
            "+--------------------+-----------+--------------------+---------+---+--------------------+----+---------------+--------+-------+---------------------+---+-----+\n",
            "\n"
          ]
        }
      ]
    },
    {
      "cell_type": "code",
      "source": [
        "df1=df1.withColumn(\"Date\",F.concat_ws(\"-\",df1.year,df1.month,df1.Day))\n",
        "df1.show()"
      ],
      "metadata": {
        "id": "a5qXYe4-COQA",
        "outputId": "0f7355b1-22e8-4930-c7de-cc6d37e4f1df",
        "colab": {
          "base_uri": "https://localhost:8080/"
        }
      },
      "execution_count": 74,
      "outputs": [
        {
          "output_type": "stream",
          "name": "stdout",
          "text": [
            "+--------------------+-----------+--------------------+---------+---+--------------------+----+---------------+--------+---------+---------------------+---+-----+\n",
            "|                 _c0|        _c1|                 _c2|      _c3|_c4|                 _c5|year|            _c6|    Time|     Date|Data_source_host_name|Day|month|\n",
            "+--------------------+-----------+--------------------+---------+---+--------------------+----+---------------+--------+---------+---------------------+---+-----+\n",
            "|<166>Jun  1 07:33...|Trend Micro|Deep Security Man...|50.0.1189|851|cat=System#011nam...|2022|Jun  1 07:33:21|07:33:21|2022-06-1|     TM-JIO-Console-1|  1|   06|\n",
            "|<166>Jun  1 07:39...|Trend Micro|Deep Security Man...|50.0.1189|851|cat=System#011nam...|2022|Jun  1 07:39:01|07:39:01|2022-06-1|     TM-JIO-Console-1|  1|   06|\n",
            "|<166>Jun  1 07:44...|Trend Micro|Deep Security Man...|50.0.1189|851|cat=System#011nam...|2022|Jun  1 07:44:42|07:44:42|2022-06-1|     TM-JIO-Console-1|  1|   06|\n",
            "|<166>Jun  1 07:50...|Trend Micro|Deep Security Man...|50.0.1189|851|cat=System#011nam...|2022|Jun  1 07:50:23|07:50:23|2022-06-1|     TM-JIO-Console-1|  1|   06|\n",
            "|<166>Jun  1 07:56...|Trend Micro|Deep Security Man...|50.0.1189|851|cat=System#011nam...|2022|Jun  1 07:56:04|07:56:04|2022-06-1|     TM-JIO-Console-1|  1|   06|\n",
            "|<166>Jun  1 08:01...|Trend Micro|Deep Security Man...|50.0.1189|851|cat=System#011nam...|2022|Jun  1 08:01:45|08:01:45|2022-06-1|     TM-JIO-Console-1|  1|   06|\n",
            "|<166>Jun  1 08:07...|Trend Micro|Deep Security Man...|50.0.1189|851|cat=System#011nam...|2022|Jun  1 08:07:26|08:07:26|2022-06-1|     TM-JIO-Console-1|  1|   06|\n",
            "|<166>Jun  1 08:13...|Trend Micro|Deep Security Man...|50.0.1189|851|cat=System#011nam...|2022|Jun  1 08:13:07|08:13:07|2022-06-1|     TM-JIO-Console-1|  1|   06|\n",
            "|<166>Jun  1 08:18...|Trend Micro|Deep Security Man...|50.0.1189|851|cat=System#011nam...|2022|Jun  1 08:18:48|08:18:48|2022-06-1|     TM-JIO-Console-1|  1|   06|\n",
            "|<166>Jun  1 08:24...|Trend Micro|Deep Security Man...|50.0.1189|851|cat=System#011nam...|2022|Jun  1 08:24:29|08:24:29|2022-06-1|     TM-JIO-Console-1|  1|   06|\n",
            "+--------------------+-----------+--------------------+---------+---+--------------------+----+---------------+--------+---------+---------------------+---+-----+\n",
            "\n"
          ]
        }
      ]
    },
    {
      "cell_type": "code",
      "source": [
        "df1=df1.withColumn(\"New_date\",F.concat(df1.Date,df1.year))\n",
        "df1.show()"
      ],
      "metadata": {
        "colab": {
          "base_uri": "https://localhost:8080/"
        },
        "id": "_OIARoieQ45T",
        "outputId": "07c128f3-3afa-479e-87a7-a52a84d71cd5"
      },
      "execution_count": 75,
      "outputs": [
        {
          "output_type": "stream",
          "name": "stdout",
          "text": [
            "+--------------------+-----------+--------------------+---------+---+--------------------+----+---------------+--------+---------+---------------------+---+-----+-------------+\n",
            "|                 _c0|        _c1|                 _c2|      _c3|_c4|                 _c5|year|            _c6|    Time|     Date|Data_source_host_name|Day|month|     New_date|\n",
            "+--------------------+-----------+--------------------+---------+---+--------------------+----+---------------+--------+---------+---------------------+---+-----+-------------+\n",
            "|<166>Jun  1 07:33...|Trend Micro|Deep Security Man...|50.0.1189|851|cat=System#011nam...|2022|Jun  1 07:33:21|07:33:21|2022-06-1|     TM-JIO-Console-1|  1|   06|2022-06-12022|\n",
            "|<166>Jun  1 07:39...|Trend Micro|Deep Security Man...|50.0.1189|851|cat=System#011nam...|2022|Jun  1 07:39:01|07:39:01|2022-06-1|     TM-JIO-Console-1|  1|   06|2022-06-12022|\n",
            "|<166>Jun  1 07:44...|Trend Micro|Deep Security Man...|50.0.1189|851|cat=System#011nam...|2022|Jun  1 07:44:42|07:44:42|2022-06-1|     TM-JIO-Console-1|  1|   06|2022-06-12022|\n",
            "|<166>Jun  1 07:50...|Trend Micro|Deep Security Man...|50.0.1189|851|cat=System#011nam...|2022|Jun  1 07:50:23|07:50:23|2022-06-1|     TM-JIO-Console-1|  1|   06|2022-06-12022|\n",
            "|<166>Jun  1 07:56...|Trend Micro|Deep Security Man...|50.0.1189|851|cat=System#011nam...|2022|Jun  1 07:56:04|07:56:04|2022-06-1|     TM-JIO-Console-1|  1|   06|2022-06-12022|\n",
            "|<166>Jun  1 08:01...|Trend Micro|Deep Security Man...|50.0.1189|851|cat=System#011nam...|2022|Jun  1 08:01:45|08:01:45|2022-06-1|     TM-JIO-Console-1|  1|   06|2022-06-12022|\n",
            "|<166>Jun  1 08:07...|Trend Micro|Deep Security Man...|50.0.1189|851|cat=System#011nam...|2022|Jun  1 08:07:26|08:07:26|2022-06-1|     TM-JIO-Console-1|  1|   06|2022-06-12022|\n",
            "|<166>Jun  1 08:13...|Trend Micro|Deep Security Man...|50.0.1189|851|cat=System#011nam...|2022|Jun  1 08:13:07|08:13:07|2022-06-1|     TM-JIO-Console-1|  1|   06|2022-06-12022|\n",
            "|<166>Jun  1 08:18...|Trend Micro|Deep Security Man...|50.0.1189|851|cat=System#011nam...|2022|Jun  1 08:18:48|08:18:48|2022-06-1|     TM-JIO-Console-1|  1|   06|2022-06-12022|\n",
            "|<166>Jun  1 08:24...|Trend Micro|Deep Security Man...|50.0.1189|851|cat=System#011nam...|2022|Jun  1 08:24:29|08:24:29|2022-06-1|     TM-JIO-Console-1|  1|   06|2022-06-12022|\n",
            "+--------------------+-----------+--------------------+---------+---+--------------------+----+---------------+--------+---------+---------------------+---+-----+-------------+\n",
            "\n"
          ]
        }
      ]
    },
    {
      "cell_type": "code",
      "source": [
        ""
      ],
      "metadata": {
        "id": "8BIjhJO5FKMS"
      },
      "execution_count": 75,
      "outputs": []
    },
    {
      "cell_type": "code",
      "source": [
        "df1=df1.withColumn('log_category',F.regexp_replace(F.regexp_extract(df1._c5,'(cat=[a-zA-Z]+)',1),'cat=',\"\"))\n",
        "df1.show()"
      ],
      "metadata": {
        "colab": {
          "base_uri": "https://localhost:8080/"
        },
        "id": "NdQNyLqJOz2t",
        "outputId": "61e9799a-02f0-467f-a9af-40b95366e4c7"
      },
      "execution_count": 76,
      "outputs": [
        {
          "output_type": "stream",
          "name": "stdout",
          "text": [
            "+--------------------+-----------+--------------------+---------+---+--------------------+----+---------------+--------+---------+---------------------+---+-----+-------------+------------+\n",
            "|                 _c0|        _c1|                 _c2|      _c3|_c4|                 _c5|year|            _c6|    Time|     Date|Data_source_host_name|Day|month|     New_date|log_category|\n",
            "+--------------------+-----------+--------------------+---------+---+--------------------+----+---------------+--------+---------+---------------------+---+-----+-------------+------------+\n",
            "|<166>Jun  1 07:33...|Trend Micro|Deep Security Man...|50.0.1189|851|cat=System#011nam...|2022|Jun  1 07:33:21|07:33:21|2022-06-1|     TM-JIO-Console-1|  1|   06|2022-06-12022|      System|\n",
            "|<166>Jun  1 07:39...|Trend Micro|Deep Security Man...|50.0.1189|851|cat=System#011nam...|2022|Jun  1 07:39:01|07:39:01|2022-06-1|     TM-JIO-Console-1|  1|   06|2022-06-12022|      System|\n",
            "|<166>Jun  1 07:44...|Trend Micro|Deep Security Man...|50.0.1189|851|cat=System#011nam...|2022|Jun  1 07:44:42|07:44:42|2022-06-1|     TM-JIO-Console-1|  1|   06|2022-06-12022|      System|\n",
            "|<166>Jun  1 07:50...|Trend Micro|Deep Security Man...|50.0.1189|851|cat=System#011nam...|2022|Jun  1 07:50:23|07:50:23|2022-06-1|     TM-JIO-Console-1|  1|   06|2022-06-12022|      System|\n",
            "|<166>Jun  1 07:56...|Trend Micro|Deep Security Man...|50.0.1189|851|cat=System#011nam...|2022|Jun  1 07:56:04|07:56:04|2022-06-1|     TM-JIO-Console-1|  1|   06|2022-06-12022|      System|\n",
            "|<166>Jun  1 08:01...|Trend Micro|Deep Security Man...|50.0.1189|851|cat=System#011nam...|2022|Jun  1 08:01:45|08:01:45|2022-06-1|     TM-JIO-Console-1|  1|   06|2022-06-12022|      System|\n",
            "|<166>Jun  1 08:07...|Trend Micro|Deep Security Man...|50.0.1189|851|cat=System#011nam...|2022|Jun  1 08:07:26|08:07:26|2022-06-1|     TM-JIO-Console-1|  1|   06|2022-06-12022|      System|\n",
            "|<166>Jun  1 08:13...|Trend Micro|Deep Security Man...|50.0.1189|851|cat=System#011nam...|2022|Jun  1 08:13:07|08:13:07|2022-06-1|     TM-JIO-Console-1|  1|   06|2022-06-12022|      System|\n",
            "|<166>Jun  1 08:18...|Trend Micro|Deep Security Man...|50.0.1189|851|cat=System#011nam...|2022|Jun  1 08:18:48|08:18:48|2022-06-1|     TM-JIO-Console-1|  1|   06|2022-06-12022|      System|\n",
            "|<166>Jun  1 08:24...|Trend Micro|Deep Security Man...|50.0.1189|851|cat=System#011nam...|2022|Jun  1 08:24:29|08:24:29|2022-06-1|     TM-JIO-Console-1|  1|   06|2022-06-12022|      System|\n",
            "+--------------------+-----------+--------------------+---------+---+--------------------+----+---------------+--------+---------+---------------------+---+-----+-------------+------------+\n",
            "\n"
          ]
        }
      ]
    },
    {
      "cell_type": "code",
      "source": [
        "df1=df1.withColumn(\"attack_type\",F.regexp_replace(F.regexp_extract(df1._c5,'(#011name=[a-zA-Z:\\s]+)',1),'#011name=',\"\"))\n",
        "df1.show()"
      ],
      "metadata": {
        "colab": {
          "base_uri": "https://localhost:8080/"
        },
        "id": "45_IUQVvMh6A",
        "outputId": "01e1249b-f383-4be4-bbff-1846f2ab2b5a"
      },
      "execution_count": 77,
      "outputs": [
        {
          "output_type": "stream",
          "name": "stdout",
          "text": [
            "+--------------------+-----------+--------------------+---------+---+--------------------+----+---------------+--------+---------+---------------------+---+-----+-------------+------------+--------------------+\n",
            "|                 _c0|        _c1|                 _c2|      _c3|_c4|                 _c5|year|            _c6|    Time|     Date|Data_source_host_name|Day|month|     New_date|log_category|         attack_type|\n",
            "+--------------------+-----------+--------------------+---------+---+--------------------+----+---------------+--------+---------+---------------------+---+-----+-------------+------------+--------------------+\n",
            "|<166>Jun  1 07:33...|Trend Micro|Deep Security Man...|50.0.1189|851|cat=System#011nam...|2022|Jun  1 07:33:21|07:33:21|2022-06-1|     TM-JIO-Console-1|  1|   06|2022-06-12022|      System|Reconnaissance De...|\n",
            "|<166>Jun  1 07:39...|Trend Micro|Deep Security Man...|50.0.1189|851|cat=System#011nam...|2022|Jun  1 07:39:01|07:39:01|2022-06-1|     TM-JIO-Console-1|  1|   06|2022-06-12022|      System|Reconnaissance De...|\n",
            "|<166>Jun  1 07:44...|Trend Micro|Deep Security Man...|50.0.1189|851|cat=System#011nam...|2022|Jun  1 07:44:42|07:44:42|2022-06-1|     TM-JIO-Console-1|  1|   06|2022-06-12022|      System|Reconnaissance De...|\n",
            "|<166>Jun  1 07:50...|Trend Micro|Deep Security Man...|50.0.1189|851|cat=System#011nam...|2022|Jun  1 07:50:23|07:50:23|2022-06-1|     TM-JIO-Console-1|  1|   06|2022-06-12022|      System|Reconnaissance De...|\n",
            "|<166>Jun  1 07:56...|Trend Micro|Deep Security Man...|50.0.1189|851|cat=System#011nam...|2022|Jun  1 07:56:04|07:56:04|2022-06-1|     TM-JIO-Console-1|  1|   06|2022-06-12022|      System|Reconnaissance De...|\n",
            "|<166>Jun  1 08:01...|Trend Micro|Deep Security Man...|50.0.1189|851|cat=System#011nam...|2022|Jun  1 08:01:45|08:01:45|2022-06-1|     TM-JIO-Console-1|  1|   06|2022-06-12022|      System|Reconnaissance De...|\n",
            "|<166>Jun  1 08:07...|Trend Micro|Deep Security Man...|50.0.1189|851|cat=System#011nam...|2022|Jun  1 08:07:26|08:07:26|2022-06-1|     TM-JIO-Console-1|  1|   06|2022-06-12022|      System|Reconnaissance De...|\n",
            "|<166>Jun  1 08:13...|Trend Micro|Deep Security Man...|50.0.1189|851|cat=System#011nam...|2022|Jun  1 08:13:07|08:13:07|2022-06-1|     TM-JIO-Console-1|  1|   06|2022-06-12022|      System|Reconnaissance De...|\n",
            "|<166>Jun  1 08:18...|Trend Micro|Deep Security Man...|50.0.1189|851|cat=System#011nam...|2022|Jun  1 08:18:48|08:18:48|2022-06-1|     TM-JIO-Console-1|  1|   06|2022-06-12022|      System|Reconnaissance De...|\n",
            "|<166>Jun  1 08:24...|Trend Micro|Deep Security Man...|50.0.1189|851|cat=System#011nam...|2022|Jun  1 08:24:29|08:24:29|2022-06-1|     TM-JIO-Console-1|  1|   06|2022-06-12022|      System|Reconnaissance De...|\n",
            "+--------------------+-----------+--------------------+---------+---+--------------------+----+---------------+--------+---------+---------------------+---+-----+-------------+------------+--------------------+\n",
            "\n"
          ]
        }
      ]
    },
    {
      "cell_type": "code",
      "source": [
        "df1=df1.withColumn(\"description\",F.regexp_replace(F.regexp_extract(df1._c5,'(011desc=[a-zA-Z\\s\\/.]+)',1),'011desc=',\"\"))\n",
        "df1.show()"
      ],
      "metadata": {
        "colab": {
          "base_uri": "https://localhost:8080/"
        },
        "id": "9SdKdUuzUDYf",
        "outputId": "7b276ee8-1670-4b43-c9b7-769d84ba2d87"
      },
      "execution_count": 78,
      "outputs": [
        {
          "output_type": "stream",
          "name": "stdout",
          "text": [
            "+--------------------+-----------+--------------------+---------+---+--------------------+----+---------------+--------+---------+---------------------+---+-----+-------------+------------+--------------------+--------------------+\n",
            "|                 _c0|        _c1|                 _c2|      _c3|_c4|                 _c5|year|            _c6|    Time|     Date|Data_source_host_name|Day|month|     New_date|log_category|         attack_type|         description|\n",
            "+--------------------+-----------+--------------------+---------+---+--------------------+----+---------------+--------+---------+---------------------+---+-----+-------------+------------+--------------------+--------------------+\n",
            "|<166>Jun  1 07:33...|Trend Micro|Deep Security Man...|50.0.1189|851|cat=System#011nam...|2022|Jun  1 07:33:21|07:33:21|2022-06-1|     TM-JIO-Console-1|  1|   06|2022-06-12022|      System|Reconnaissance De...|The Agent/Applian...|\n",
            "|<166>Jun  1 07:39...|Trend Micro|Deep Security Man...|50.0.1189|851|cat=System#011nam...|2022|Jun  1 07:39:01|07:39:01|2022-06-1|     TM-JIO-Console-1|  1|   06|2022-06-12022|      System|Reconnaissance De...|The Agent/Applian...|\n",
            "|<166>Jun  1 07:44...|Trend Micro|Deep Security Man...|50.0.1189|851|cat=System#011nam...|2022|Jun  1 07:44:42|07:44:42|2022-06-1|     TM-JIO-Console-1|  1|   06|2022-06-12022|      System|Reconnaissance De...|The Agent/Applian...|\n",
            "|<166>Jun  1 07:50...|Trend Micro|Deep Security Man...|50.0.1189|851|cat=System#011nam...|2022|Jun  1 07:50:23|07:50:23|2022-06-1|     TM-JIO-Console-1|  1|   06|2022-06-12022|      System|Reconnaissance De...|The Agent/Applian...|\n",
            "|<166>Jun  1 07:56...|Trend Micro|Deep Security Man...|50.0.1189|851|cat=System#011nam...|2022|Jun  1 07:56:04|07:56:04|2022-06-1|     TM-JIO-Console-1|  1|   06|2022-06-12022|      System|Reconnaissance De...|The Agent/Applian...|\n",
            "|<166>Jun  1 08:01...|Trend Micro|Deep Security Man...|50.0.1189|851|cat=System#011nam...|2022|Jun  1 08:01:45|08:01:45|2022-06-1|     TM-JIO-Console-1|  1|   06|2022-06-12022|      System|Reconnaissance De...|The Agent/Applian...|\n",
            "|<166>Jun  1 08:07...|Trend Micro|Deep Security Man...|50.0.1189|851|cat=System#011nam...|2022|Jun  1 08:07:26|08:07:26|2022-06-1|     TM-JIO-Console-1|  1|   06|2022-06-12022|      System|Reconnaissance De...|The Agent/Applian...|\n",
            "|<166>Jun  1 08:13...|Trend Micro|Deep Security Man...|50.0.1189|851|cat=System#011nam...|2022|Jun  1 08:13:07|08:13:07|2022-06-1|     TM-JIO-Console-1|  1|   06|2022-06-12022|      System|Reconnaissance De...|The Agent/Applian...|\n",
            "|<166>Jun  1 08:18...|Trend Micro|Deep Security Man...|50.0.1189|851|cat=System#011nam...|2022|Jun  1 08:18:48|08:18:48|2022-06-1|     TM-JIO-Console-1|  1|   06|2022-06-12022|      System|Reconnaissance De...|The Agent/Applian...|\n",
            "|<166>Jun  1 08:24...|Trend Micro|Deep Security Man...|50.0.1189|851|cat=System#011nam...|2022|Jun  1 08:24:29|08:24:29|2022-06-1|     TM-JIO-Console-1|  1|   06|2022-06-12022|      System|Reconnaissance De...|The Agent/Applian...|\n",
            "+--------------------+-----------+--------------------+---------+---+--------------------+----+---------------+--------+---------+---------------------+---+-----+-------------+------------+--------------------+--------------------+\n",
            "\n"
          ]
        }
      ]
    },
    {
      "cell_type": "code",
      "source": [
        "df1=df1.withColumn(\"seviority\",F.regexp_replace(F.regexp_extract(df1._c5,'(011sev=[\\d]+)',1),'011sev=',\"\"))\n",
        "df1.show()"
      ],
      "metadata": {
        "colab": {
          "base_uri": "https://localhost:8080/"
        },
        "id": "AzYxun5tUc4f",
        "outputId": "487bfcf6-e298-47ea-fc42-1318f5ce3e67"
      },
      "execution_count": 79,
      "outputs": [
        {
          "output_type": "stream",
          "name": "stdout",
          "text": [
            "+--------------------+-----------+--------------------+---------+---+--------------------+----+---------------+--------+---------+---------------------+---+-----+-------------+------------+--------------------+--------------------+---------+\n",
            "|                 _c0|        _c1|                 _c2|      _c3|_c4|                 _c5|year|            _c6|    Time|     Date|Data_source_host_name|Day|month|     New_date|log_category|         attack_type|         description|seviority|\n",
            "+--------------------+-----------+--------------------+---------+---+--------------------+----+---------------+--------+---------+---------------------+---+-----+-------------+------------+--------------------+--------------------+---------+\n",
            "|<166>Jun  1 07:33...|Trend Micro|Deep Security Man...|50.0.1189|851|cat=System#011nam...|2022|Jun  1 07:33:21|07:33:21|2022-06-1|     TM-JIO-Console-1|  1|   06|2022-06-12022|      System|Reconnaissance De...|The Agent/Applian...|        6|\n",
            "|<166>Jun  1 07:39...|Trend Micro|Deep Security Man...|50.0.1189|851|cat=System#011nam...|2022|Jun  1 07:39:01|07:39:01|2022-06-1|     TM-JIO-Console-1|  1|   06|2022-06-12022|      System|Reconnaissance De...|The Agent/Applian...|        6|\n",
            "|<166>Jun  1 07:44...|Trend Micro|Deep Security Man...|50.0.1189|851|cat=System#011nam...|2022|Jun  1 07:44:42|07:44:42|2022-06-1|     TM-JIO-Console-1|  1|   06|2022-06-12022|      System|Reconnaissance De...|The Agent/Applian...|        6|\n",
            "|<166>Jun  1 07:50...|Trend Micro|Deep Security Man...|50.0.1189|851|cat=System#011nam...|2022|Jun  1 07:50:23|07:50:23|2022-06-1|     TM-JIO-Console-1|  1|   06|2022-06-12022|      System|Reconnaissance De...|The Agent/Applian...|        6|\n",
            "|<166>Jun  1 07:56...|Trend Micro|Deep Security Man...|50.0.1189|851|cat=System#011nam...|2022|Jun  1 07:56:04|07:56:04|2022-06-1|     TM-JIO-Console-1|  1|   06|2022-06-12022|      System|Reconnaissance De...|The Agent/Applian...|        6|\n",
            "|<166>Jun  1 08:01...|Trend Micro|Deep Security Man...|50.0.1189|851|cat=System#011nam...|2022|Jun  1 08:01:45|08:01:45|2022-06-1|     TM-JIO-Console-1|  1|   06|2022-06-12022|      System|Reconnaissance De...|The Agent/Applian...|        6|\n",
            "|<166>Jun  1 08:07...|Trend Micro|Deep Security Man...|50.0.1189|851|cat=System#011nam...|2022|Jun  1 08:07:26|08:07:26|2022-06-1|     TM-JIO-Console-1|  1|   06|2022-06-12022|      System|Reconnaissance De...|The Agent/Applian...|        6|\n",
            "|<166>Jun  1 08:13...|Trend Micro|Deep Security Man...|50.0.1189|851|cat=System#011nam...|2022|Jun  1 08:13:07|08:13:07|2022-06-1|     TM-JIO-Console-1|  1|   06|2022-06-12022|      System|Reconnaissance De...|The Agent/Applian...|        6|\n",
            "|<166>Jun  1 08:18...|Trend Micro|Deep Security Man...|50.0.1189|851|cat=System#011nam...|2022|Jun  1 08:18:48|08:18:48|2022-06-1|     TM-JIO-Console-1|  1|   06|2022-06-12022|      System|Reconnaissance De...|The Agent/Applian...|        6|\n",
            "|<166>Jun  1 08:24...|Trend Micro|Deep Security Man...|50.0.1189|851|cat=System#011nam...|2022|Jun  1 08:24:29|08:24:29|2022-06-1|     TM-JIO-Console-1|  1|   06|2022-06-12022|      System|Reconnaissance De...|The Agent/Applian...|        6|\n",
            "+--------------------+-----------+--------------------+---------+---+--------------------+----+---------------+--------+---------+---------------------+---+-----+-------------+------------+--------------------+--------------------+---------+\n",
            "\n"
          ]
        }
      ]
    },
    {
      "cell_type": "code",
      "source": [
        "df1=df1.withColumn(\"src_ip\",F.regexp_replace(F.regexp_extract(df1._c5,'(#011src=[0-9]{1,3}[.][0-9]{1,3}[.][0-9]{1,3}[.][0-9]{1,3})',1),'#011src=',\"\"))\n",
        "df1.show()\n"
      ],
      "metadata": {
        "colab": {
          "base_uri": "https://localhost:8080/"
        },
        "id": "fejHJ7TMUuuJ",
        "outputId": "b26ce38e-f194-473b-e2a4-04d9d37b22cc"
      },
      "execution_count": 80,
      "outputs": [
        {
          "output_type": "stream",
          "name": "stdout",
          "text": [
            "+--------------------+-----------+--------------------+---------+---+--------------------+----+---------------+--------+---------+---------------------+---+-----+-------------+------------+--------------------+--------------------+---------+--------------+\n",
            "|                 _c0|        _c1|                 _c2|      _c3|_c4|                 _c5|year|            _c6|    Time|     Date|Data_source_host_name|Day|month|     New_date|log_category|         attack_type|         description|seviority|        src_ip|\n",
            "+--------------------+-----------+--------------------+---------+---+--------------------+----+---------------+--------+---------+---------------------+---+-----+-------------+------------+--------------------+--------------------+---------+--------------+\n",
            "|<166>Jun  1 07:33...|Trend Micro|Deep Security Man...|50.0.1189|851|cat=System#011nam...|2022|Jun  1 07:33:21|07:33:21|2022-06-1|     TM-JIO-Console-1|  1|   06|2022-06-12022|      System|Reconnaissance De...|The Agent/Applian...|        6|192.168.83.163|\n",
            "|<166>Jun  1 07:39...|Trend Micro|Deep Security Man...|50.0.1189|851|cat=System#011nam...|2022|Jun  1 07:39:01|07:39:01|2022-06-1|     TM-JIO-Console-1|  1|   06|2022-06-12022|      System|Reconnaissance De...|The Agent/Applian...|        6|192.168.83.163|\n",
            "|<166>Jun  1 07:44...|Trend Micro|Deep Security Man...|50.0.1189|851|cat=System#011nam...|2022|Jun  1 07:44:42|07:44:42|2022-06-1|     TM-JIO-Console-1|  1|   06|2022-06-12022|      System|Reconnaissance De...|The Agent/Applian...|        6|192.168.83.163|\n",
            "|<166>Jun  1 07:50...|Trend Micro|Deep Security Man...|50.0.1189|851|cat=System#011nam...|2022|Jun  1 07:50:23|07:50:23|2022-06-1|     TM-JIO-Console-1|  1|   06|2022-06-12022|      System|Reconnaissance De...|The Agent/Applian...|        6|192.168.83.163|\n",
            "|<166>Jun  1 07:56...|Trend Micro|Deep Security Man...|50.0.1189|851|cat=System#011nam...|2022|Jun  1 07:56:04|07:56:04|2022-06-1|     TM-JIO-Console-1|  1|   06|2022-06-12022|      System|Reconnaissance De...|The Agent/Applian...|        6|192.168.83.163|\n",
            "|<166>Jun  1 08:01...|Trend Micro|Deep Security Man...|50.0.1189|851|cat=System#011nam...|2022|Jun  1 08:01:45|08:01:45|2022-06-1|     TM-JIO-Console-1|  1|   06|2022-06-12022|      System|Reconnaissance De...|The Agent/Applian...|        6|192.168.83.163|\n",
            "|<166>Jun  1 08:07...|Trend Micro|Deep Security Man...|50.0.1189|851|cat=System#011nam...|2022|Jun  1 08:07:26|08:07:26|2022-06-1|     TM-JIO-Console-1|  1|   06|2022-06-12022|      System|Reconnaissance De...|The Agent/Applian...|        6|192.168.83.163|\n",
            "|<166>Jun  1 08:13...|Trend Micro|Deep Security Man...|50.0.1189|851|cat=System#011nam...|2022|Jun  1 08:13:07|08:13:07|2022-06-1|     TM-JIO-Console-1|  1|   06|2022-06-12022|      System|Reconnaissance De...|The Agent/Applian...|        6|192.168.83.163|\n",
            "|<166>Jun  1 08:18...|Trend Micro|Deep Security Man...|50.0.1189|851|cat=System#011nam...|2022|Jun  1 08:18:48|08:18:48|2022-06-1|     TM-JIO-Console-1|  1|   06|2022-06-12022|      System|Reconnaissance De...|The Agent/Applian...|        6|192.168.83.163|\n",
            "|<166>Jun  1 08:24...|Trend Micro|Deep Security Man...|50.0.1189|851|cat=System#011nam...|2022|Jun  1 08:24:29|08:24:29|2022-06-1|     TM-JIO-Console-1|  1|   06|2022-06-12022|      System|Reconnaissance De...|The Agent/Applian...|        6|192.168.83.163|\n",
            "+--------------------+-----------+--------------------+---------+---+--------------------+----+---------------+--------+---------+---------------------+---+-----+-------------+------------+--------------------+--------------------+---------+--------------+\n",
            "\n"
          ]
        }
      ]
    },
    {
      "cell_type": "code",
      "source": [
        "df1=df1.withColumn(\"user_name\",F.regexp_replace(F.regexp_extract(df1._c5,'(011usrName=[a-zA-Z \\s]+)',1),'011usrName=',\"\"))\n",
        "df1.show()"
      ],
      "metadata": {
        "colab": {
          "base_uri": "https://localhost:8080/"
        },
        "id": "6K-dE_PWKzMN",
        "outputId": "fdb5078b-0af2-4948-99dc-c00c2080ac32"
      },
      "execution_count": 81,
      "outputs": [
        {
          "output_type": "stream",
          "name": "stdout",
          "text": [
            "+--------------------+-----------+--------------------+---------+---+--------------------+----+---------------+--------+---------+---------------------+---+-----+-------------+------------+--------------------+--------------------+---------+--------------+---------+\n",
            "|                 _c0|        _c1|                 _c2|      _c3|_c4|                 _c5|year|            _c6|    Time|     Date|Data_source_host_name|Day|month|     New_date|log_category|         attack_type|         description|seviority|        src_ip|user_name|\n",
            "+--------------------+-----------+--------------------+---------+---+--------------------+----+---------------+--------+---------+---------------------+---+-----+-------------+------------+--------------------+--------------------+---------+--------------+---------+\n",
            "|<166>Jun  1 07:33...|Trend Micro|Deep Security Man...|50.0.1189|851|cat=System#011nam...|2022|Jun  1 07:33:21|07:33:21|2022-06-1|     TM-JIO-Console-1|  1|   06|2022-06-12022|      System|Reconnaissance De...|The Agent/Applian...|        6|192.168.83.163|   System|\n",
            "|<166>Jun  1 07:39...|Trend Micro|Deep Security Man...|50.0.1189|851|cat=System#011nam...|2022|Jun  1 07:39:01|07:39:01|2022-06-1|     TM-JIO-Console-1|  1|   06|2022-06-12022|      System|Reconnaissance De...|The Agent/Applian...|        6|192.168.83.163|   System|\n",
            "|<166>Jun  1 07:44...|Trend Micro|Deep Security Man...|50.0.1189|851|cat=System#011nam...|2022|Jun  1 07:44:42|07:44:42|2022-06-1|     TM-JIO-Console-1|  1|   06|2022-06-12022|      System|Reconnaissance De...|The Agent/Applian...|        6|192.168.83.163|   System|\n",
            "|<166>Jun  1 07:50...|Trend Micro|Deep Security Man...|50.0.1189|851|cat=System#011nam...|2022|Jun  1 07:50:23|07:50:23|2022-06-1|     TM-JIO-Console-1|  1|   06|2022-06-12022|      System|Reconnaissance De...|The Agent/Applian...|        6|192.168.83.163|   System|\n",
            "|<166>Jun  1 07:56...|Trend Micro|Deep Security Man...|50.0.1189|851|cat=System#011nam...|2022|Jun  1 07:56:04|07:56:04|2022-06-1|     TM-JIO-Console-1|  1|   06|2022-06-12022|      System|Reconnaissance De...|The Agent/Applian...|        6|192.168.83.163|   System|\n",
            "|<166>Jun  1 08:01...|Trend Micro|Deep Security Man...|50.0.1189|851|cat=System#011nam...|2022|Jun  1 08:01:45|08:01:45|2022-06-1|     TM-JIO-Console-1|  1|   06|2022-06-12022|      System|Reconnaissance De...|The Agent/Applian...|        6|192.168.83.163|   System|\n",
            "|<166>Jun  1 08:07...|Trend Micro|Deep Security Man...|50.0.1189|851|cat=System#011nam...|2022|Jun  1 08:07:26|08:07:26|2022-06-1|     TM-JIO-Console-1|  1|   06|2022-06-12022|      System|Reconnaissance De...|The Agent/Applian...|        6|192.168.83.163|   System|\n",
            "|<166>Jun  1 08:13...|Trend Micro|Deep Security Man...|50.0.1189|851|cat=System#011nam...|2022|Jun  1 08:13:07|08:13:07|2022-06-1|     TM-JIO-Console-1|  1|   06|2022-06-12022|      System|Reconnaissance De...|The Agent/Applian...|        6|192.168.83.163|   System|\n",
            "|<166>Jun  1 08:18...|Trend Micro|Deep Security Man...|50.0.1189|851|cat=System#011nam...|2022|Jun  1 08:18:48|08:18:48|2022-06-1|     TM-JIO-Console-1|  1|   06|2022-06-12022|      System|Reconnaissance De...|The Agent/Applian...|        6|192.168.83.163|   System|\n",
            "|<166>Jun  1 08:24...|Trend Micro|Deep Security Man...|50.0.1189|851|cat=System#011nam...|2022|Jun  1 08:24:29|08:24:29|2022-06-1|     TM-JIO-Console-1|  1|   06|2022-06-12022|      System|Reconnaissance De...|The Agent/Applian...|        6|192.168.83.163|   System|\n",
            "+--------------------+-----------+--------------------+---------+---+--------------------+----+---------------+--------+---------+---------------------+---+-----+-------------+------------+--------------------+--------------------+---------+--------------+---------+\n",
            "\n"
          ]
        }
      ]
    },
    {
      "cell_type": "code",
      "source": [
        "df1=df1.withColumn(\"destination_ip\",F.regexp_extract(F.regexp_extract(df1._c5,'(#011target=[0-9 . ( ) a-zA-Z ]+)',1),'([0-9]{1,3}[.][0-9]{1,3}[.][0-9]{1,3}[.][0-9]{1,3})',1))\n",
        "df1.show()"
      ],
      "metadata": {
        "colab": {
          "base_uri": "https://localhost:8080/"
        },
        "id": "_-hLGUWzK6BG",
        "outputId": "60007695-574a-44e0-e974-de019eb45599"
      },
      "execution_count": 82,
      "outputs": [
        {
          "output_type": "stream",
          "name": "stdout",
          "text": [
            "+--------------------+-----------+--------------------+---------+---+--------------------+----+---------------+--------+---------+---------------------+---+-----+-------------+------------+--------------------+--------------------+---------+--------------+---------+--------------+\n",
            "|                 _c0|        _c1|                 _c2|      _c3|_c4|                 _c5|year|            _c6|    Time|     Date|Data_source_host_name|Day|month|     New_date|log_category|         attack_type|         description|seviority|        src_ip|user_name|destination_ip|\n",
            "+--------------------+-----------+--------------------+---------+---+--------------------+----+---------------+--------+---------+---------------------+---+-----+-------------+------------+--------------------+--------------------+---------+--------------+---------+--------------+\n",
            "|<166>Jun  1 07:33...|Trend Micro|Deep Security Man...|50.0.1189|851|cat=System#011nam...|2022|Jun  1 07:33:21|07:33:21|2022-06-1|     TM-JIO-Console-1|  1|   06|2022-06-12022|      System|Reconnaissance De...|The Agent/Applian...|        6|192.168.83.163|   System|  10.129.76.76|\n",
            "|<166>Jun  1 07:39...|Trend Micro|Deep Security Man...|50.0.1189|851|cat=System#011nam...|2022|Jun  1 07:39:01|07:39:01|2022-06-1|     TM-JIO-Console-1|  1|   06|2022-06-12022|      System|Reconnaissance De...|The Agent/Applian...|        6|192.168.83.163|   System|  10.129.76.76|\n",
            "|<166>Jun  1 07:44...|Trend Micro|Deep Security Man...|50.0.1189|851|cat=System#011nam...|2022|Jun  1 07:44:42|07:44:42|2022-06-1|     TM-JIO-Console-1|  1|   06|2022-06-12022|      System|Reconnaissance De...|The Agent/Applian...|        6|192.168.83.163|   System|  10.129.76.76|\n",
            "|<166>Jun  1 07:50...|Trend Micro|Deep Security Man...|50.0.1189|851|cat=System#011nam...|2022|Jun  1 07:50:23|07:50:23|2022-06-1|     TM-JIO-Console-1|  1|   06|2022-06-12022|      System|Reconnaissance De...|The Agent/Applian...|        6|192.168.83.163|   System|  10.129.76.76|\n",
            "|<166>Jun  1 07:56...|Trend Micro|Deep Security Man...|50.0.1189|851|cat=System#011nam...|2022|Jun  1 07:56:04|07:56:04|2022-06-1|     TM-JIO-Console-1|  1|   06|2022-06-12022|      System|Reconnaissance De...|The Agent/Applian...|        6|192.168.83.163|   System|  10.129.76.76|\n",
            "|<166>Jun  1 08:01...|Trend Micro|Deep Security Man...|50.0.1189|851|cat=System#011nam...|2022|Jun  1 08:01:45|08:01:45|2022-06-1|     TM-JIO-Console-1|  1|   06|2022-06-12022|      System|Reconnaissance De...|The Agent/Applian...|        6|192.168.83.163|   System|  10.129.76.76|\n",
            "|<166>Jun  1 08:07...|Trend Micro|Deep Security Man...|50.0.1189|851|cat=System#011nam...|2022|Jun  1 08:07:26|08:07:26|2022-06-1|     TM-JIO-Console-1|  1|   06|2022-06-12022|      System|Reconnaissance De...|The Agent/Applian...|        6|192.168.83.163|   System|  10.129.76.76|\n",
            "|<166>Jun  1 08:13...|Trend Micro|Deep Security Man...|50.0.1189|851|cat=System#011nam...|2022|Jun  1 08:13:07|08:13:07|2022-06-1|     TM-JIO-Console-1|  1|   06|2022-06-12022|      System|Reconnaissance De...|The Agent/Applian...|        6|192.168.83.163|   System|  10.129.76.76|\n",
            "|<166>Jun  1 08:18...|Trend Micro|Deep Security Man...|50.0.1189|851|cat=System#011nam...|2022|Jun  1 08:18:48|08:18:48|2022-06-1|     TM-JIO-Console-1|  1|   06|2022-06-12022|      System|Reconnaissance De...|The Agent/Applian...|        6|192.168.83.163|   System|  10.129.76.76|\n",
            "|<166>Jun  1 08:24...|Trend Micro|Deep Security Man...|50.0.1189|851|cat=System#011nam...|2022|Jun  1 08:24:29|08:24:29|2022-06-1|     TM-JIO-Console-1|  1|   06|2022-06-12022|      System|Reconnaissance De...|The Agent/Applian...|        6|192.168.83.163|   System|  10.129.76.76|\n",
            "+--------------------+-----------+--------------------+---------+---+--------------------+----+---------------+--------+---------+---------------------+---+-----+-------------+------------+--------------------+--------------------+---------+--------------+---------+--------------+\n",
            "\n"
          ]
        }
      ]
    },
    {
      "cell_type": "code",
      "source": [
        "df1=df1.withColumn(\"desitination_host\",F.regexp_replace(F.regexp_replace(F.regexp_extract(df1._c5,'(#011target=[0-9 . ( ) a-zA-Z ]+)',1),'([0-9]{1,3}[.][0-9]{1,3}[.][0-9]{1,3}[.][0-9]{1,3})',\"\"),'#011target=' ,\"\"))\n",
        "df1.show()"
      ],
      "metadata": {
        "colab": {
          "base_uri": "https://localhost:8080/"
        },
        "id": "dMnHT_OlXsee",
        "outputId": "644637f5-f620-4555-f409-03a4fbac6486"
      },
      "execution_count": 83,
      "outputs": [
        {
          "output_type": "stream",
          "name": "stdout",
          "text": [
            "+--------------------+-----------+--------------------+---------+---+--------------------+----+---------------+--------+---------+---------------------+---+-----+-------------+------------+--------------------+--------------------+---------+--------------+---------+--------------+-----------------+\n",
            "|                 _c0|        _c1|                 _c2|      _c3|_c4|                 _c5|year|            _c6|    Time|     Date|Data_source_host_name|Day|month|     New_date|log_category|         attack_type|         description|seviority|        src_ip|user_name|destination_ip|desitination_host|\n",
            "+--------------------+-----------+--------------------+---------+---+--------------------+----+---------------+--------+---------+---------------------+---+-----+-------------+------------+--------------------+--------------------+---------+--------------+---------+--------------+-----------------+\n",
            "|<166>Jun  1 07:33...|Trend Micro|Deep Security Man...|50.0.1189|851|cat=System#011nam...|2022|Jun  1 07:33:21|07:33:21|2022-06-1|     TM-JIO-Console-1|  1|   06|2022-06-12022|      System|Reconnaissance De...|The Agent/Applian...|        6|192.168.83.163|   System|  10.129.76.76|  (sidcpaymeng08)|\n",
            "|<166>Jun  1 07:39...|Trend Micro|Deep Security Man...|50.0.1189|851|cat=System#011nam...|2022|Jun  1 07:39:01|07:39:01|2022-06-1|     TM-JIO-Console-1|  1|   06|2022-06-12022|      System|Reconnaissance De...|The Agent/Applian...|        6|192.168.83.163|   System|  10.129.76.76|  (sidcpaymeng08)|\n",
            "|<166>Jun  1 07:44...|Trend Micro|Deep Security Man...|50.0.1189|851|cat=System#011nam...|2022|Jun  1 07:44:42|07:44:42|2022-06-1|     TM-JIO-Console-1|  1|   06|2022-06-12022|      System|Reconnaissance De...|The Agent/Applian...|        6|192.168.83.163|   System|  10.129.76.76|  (sidcpaymeng08)|\n",
            "|<166>Jun  1 07:50...|Trend Micro|Deep Security Man...|50.0.1189|851|cat=System#011nam...|2022|Jun  1 07:50:23|07:50:23|2022-06-1|     TM-JIO-Console-1|  1|   06|2022-06-12022|      System|Reconnaissance De...|The Agent/Applian...|        6|192.168.83.163|   System|  10.129.76.76|  (sidcpaymeng08)|\n",
            "|<166>Jun  1 07:56...|Trend Micro|Deep Security Man...|50.0.1189|851|cat=System#011nam...|2022|Jun  1 07:56:04|07:56:04|2022-06-1|     TM-JIO-Console-1|  1|   06|2022-06-12022|      System|Reconnaissance De...|The Agent/Applian...|        6|192.168.83.163|   System|  10.129.76.76|  (sidcpaymeng08)|\n",
            "|<166>Jun  1 08:01...|Trend Micro|Deep Security Man...|50.0.1189|851|cat=System#011nam...|2022|Jun  1 08:01:45|08:01:45|2022-06-1|     TM-JIO-Console-1|  1|   06|2022-06-12022|      System|Reconnaissance De...|The Agent/Applian...|        6|192.168.83.163|   System|  10.129.76.76|  (sidcpaymeng08)|\n",
            "|<166>Jun  1 08:07...|Trend Micro|Deep Security Man...|50.0.1189|851|cat=System#011nam...|2022|Jun  1 08:07:26|08:07:26|2022-06-1|     TM-JIO-Console-1|  1|   06|2022-06-12022|      System|Reconnaissance De...|The Agent/Applian...|        6|192.168.83.163|   System|  10.129.76.76|  (sidcpaymeng08)|\n",
            "|<166>Jun  1 08:13...|Trend Micro|Deep Security Man...|50.0.1189|851|cat=System#011nam...|2022|Jun  1 08:13:07|08:13:07|2022-06-1|     TM-JIO-Console-1|  1|   06|2022-06-12022|      System|Reconnaissance De...|The Agent/Applian...|        6|192.168.83.163|   System|  10.129.76.76|  (sidcpaymeng08)|\n",
            "|<166>Jun  1 08:18...|Trend Micro|Deep Security Man...|50.0.1189|851|cat=System#011nam...|2022|Jun  1 08:18:48|08:18:48|2022-06-1|     TM-JIO-Console-1|  1|   06|2022-06-12022|      System|Reconnaissance De...|The Agent/Applian...|        6|192.168.83.163|   System|  10.129.76.76|  (sidcpaymeng08)|\n",
            "|<166>Jun  1 08:24...|Trend Micro|Deep Security Man...|50.0.1189|851|cat=System#011nam...|2022|Jun  1 08:24:29|08:24:29|2022-06-1|     TM-JIO-Console-1|  1|   06|2022-06-12022|      System|Reconnaissance De...|The Agent/Applian...|        6|192.168.83.163|   System|  10.129.76.76|  (sidcpaymeng08)|\n",
            "+--------------------+-----------+--------------------+---------+---+--------------------+----+---------------+--------+---------+---------------------+---+-----+-------------+------------+--------------------+--------------------+---------+--------------+---------+--------------+-----------------+\n",
            "\n"
          ]
        }
      ]
    },
    {
      "cell_type": "code",
      "source": [
        "df1=df1.withColumn(\"rule_message\",F.regexp_replace(F.regexp_extract(df1._c5,'(#011msg=[0-9 . \\/ a-zA-Z ]+)',1),'#011msg=',\"\"))\n",
        "df1.show()"
      ],
      "metadata": {
        "colab": {
          "base_uri": "https://localhost:8080/"
        },
        "id": "Dev_j8oQYKDZ",
        "outputId": "71d85330-97cd-436d-e18c-d64cf95fa4fd"
      },
      "execution_count": 84,
      "outputs": [
        {
          "output_type": "stream",
          "name": "stdout",
          "text": [
            "+--------------------+-----------+--------------------+---------+---+--------------------+----+---------------+--------+---------+---------------------+---+-----+-------------+------------+--------------------+--------------------+---------+--------------+---------+--------------+-----------------+--------------------+\n",
            "|                 _c0|        _c1|                 _c2|      _c3|_c4|                 _c5|year|            _c6|    Time|     Date|Data_source_host_name|Day|month|     New_date|log_category|         attack_type|         description|seviority|        src_ip|user_name|destination_ip|desitination_host|        rule_message|\n",
            "+--------------------+-----------+--------------------+---------+---+--------------------+----+---------------+--------+---------+---------------------+---+-----+-------------+------------+--------------------+--------------------+---------+--------------+---------+--------------+-----------------+--------------------+\n",
            "|<166>Jun  1 07:33...|Trend Micro|Deep Security Man...|50.0.1189|851|cat=System#011nam...|2022|Jun  1 07:33:21|07:33:21|2022-06-1|     TM-JIO-Console-1|  1|   06|2022-06-12022|      System|Reconnaissance De...|The Agent/Applian...|        6|192.168.83.163|   System|  10.129.76.76|  (sidcpaymeng08)|The Agent/Applian...|\n",
            "|<166>Jun  1 07:39...|Trend Micro|Deep Security Man...|50.0.1189|851|cat=System#011nam...|2022|Jun  1 07:39:01|07:39:01|2022-06-1|     TM-JIO-Console-1|  1|   06|2022-06-12022|      System|Reconnaissance De...|The Agent/Applian...|        6|192.168.83.163|   System|  10.129.76.76|  (sidcpaymeng08)|The Agent/Applian...|\n",
            "|<166>Jun  1 07:44...|Trend Micro|Deep Security Man...|50.0.1189|851|cat=System#011nam...|2022|Jun  1 07:44:42|07:44:42|2022-06-1|     TM-JIO-Console-1|  1|   06|2022-06-12022|      System|Reconnaissance De...|The Agent/Applian...|        6|192.168.83.163|   System|  10.129.76.76|  (sidcpaymeng08)|The Agent/Applian...|\n",
            "|<166>Jun  1 07:50...|Trend Micro|Deep Security Man...|50.0.1189|851|cat=System#011nam...|2022|Jun  1 07:50:23|07:50:23|2022-06-1|     TM-JIO-Console-1|  1|   06|2022-06-12022|      System|Reconnaissance De...|The Agent/Applian...|        6|192.168.83.163|   System|  10.129.76.76|  (sidcpaymeng08)|The Agent/Applian...|\n",
            "|<166>Jun  1 07:56...|Trend Micro|Deep Security Man...|50.0.1189|851|cat=System#011nam...|2022|Jun  1 07:56:04|07:56:04|2022-06-1|     TM-JIO-Console-1|  1|   06|2022-06-12022|      System|Reconnaissance De...|The Agent/Applian...|        6|192.168.83.163|   System|  10.129.76.76|  (sidcpaymeng08)|The Agent/Applian...|\n",
            "|<166>Jun  1 08:01...|Trend Micro|Deep Security Man...|50.0.1189|851|cat=System#011nam...|2022|Jun  1 08:01:45|08:01:45|2022-06-1|     TM-JIO-Console-1|  1|   06|2022-06-12022|      System|Reconnaissance De...|The Agent/Applian...|        6|192.168.83.163|   System|  10.129.76.76|  (sidcpaymeng08)|The Agent/Applian...|\n",
            "|<166>Jun  1 08:07...|Trend Micro|Deep Security Man...|50.0.1189|851|cat=System#011nam...|2022|Jun  1 08:07:26|08:07:26|2022-06-1|     TM-JIO-Console-1|  1|   06|2022-06-12022|      System|Reconnaissance De...|The Agent/Applian...|        6|192.168.83.163|   System|  10.129.76.76|  (sidcpaymeng08)|The Agent/Applian...|\n",
            "|<166>Jun  1 08:13...|Trend Micro|Deep Security Man...|50.0.1189|851|cat=System#011nam...|2022|Jun  1 08:13:07|08:13:07|2022-06-1|     TM-JIO-Console-1|  1|   06|2022-06-12022|      System|Reconnaissance De...|The Agent/Applian...|        6|192.168.83.163|   System|  10.129.76.76|  (sidcpaymeng08)|The Agent/Applian...|\n",
            "|<166>Jun  1 08:18...|Trend Micro|Deep Security Man...|50.0.1189|851|cat=System#011nam...|2022|Jun  1 08:18:48|08:18:48|2022-06-1|     TM-JIO-Console-1|  1|   06|2022-06-12022|      System|Reconnaissance De...|The Agent/Applian...|        6|192.168.83.163|   System|  10.129.76.76|  (sidcpaymeng08)|The Agent/Applian...|\n",
            "|<166>Jun  1 08:24...|Trend Micro|Deep Security Man...|50.0.1189|851|cat=System#011nam...|2022|Jun  1 08:24:29|08:24:29|2022-06-1|     TM-JIO-Console-1|  1|   06|2022-06-12022|      System|Reconnaissance De...|The Agent/Applian...|        6|192.168.83.163|   System|  10.129.76.76|  (sidcpaymeng08)|The Agent/Applian...|\n",
            "+--------------------+-----------+--------------------+---------+---+--------------------+----+---------------+--------+---------+---------------------+---+-----+-------------+------------+--------------------+--------------------+---------+--------------+---------+--------------+-----------------+--------------------+\n",
            "\n"
          ]
        }
      ]
    },
    {
      "cell_type": "code",
      "source": [
        "df1=df1.withColumn(\"Data_source_ip\",F.regexp_replace(F.regexp_extract(df1._c5,'(#011TrendMicroDsScannerIp=[0-9]{1,3}[.][0-9]{1,3}[.][0-9]{1,3}[.][0-9]{1,3})',1),'#011TrendMicroDsScannerIp=',\"\"))\n",
        "df1.show()"
      ],
      "metadata": {
        "colab": {
          "base_uri": "https://localhost:8080/"
        },
        "id": "VXgBRBRrcHc7",
        "outputId": "f3879be8-96c4-4271-9c90-7fda2b226a49"
      },
      "execution_count": 85,
      "outputs": [
        {
          "output_type": "stream",
          "name": "stdout",
          "text": [
            "+--------------------+-----------+--------------------+---------+---+--------------------+----+---------------+--------+---------+---------------------+---+-----+-------------+------------+--------------------+--------------------+---------+--------------+---------+--------------+-----------------+--------------------+--------------+\n",
            "|                 _c0|        _c1|                 _c2|      _c3|_c4|                 _c5|year|            _c6|    Time|     Date|Data_source_host_name|Day|month|     New_date|log_category|         attack_type|         description|seviority|        src_ip|user_name|destination_ip|desitination_host|        rule_message|Data_source_ip|\n",
            "+--------------------+-----------+--------------------+---------+---+--------------------+----+---------------+--------+---------+---------------------+---+-----+-------------+------------+--------------------+--------------------+---------+--------------+---------+--------------+-----------------+--------------------+--------------+\n",
            "|<166>Jun  1 07:33...|Trend Micro|Deep Security Man...|50.0.1189|851|cat=System#011nam...|2022|Jun  1 07:33:21|07:33:21|2022-06-1|     TM-JIO-Console-1|  1|   06|2022-06-12022|      System|Reconnaissance De...|The Agent/Applian...|        6|192.168.83.163|   System|  10.129.76.76|  (sidcpaymeng08)|The Agent/Applian...|  10.129.76.75|\n",
            "|<166>Jun  1 07:39...|Trend Micro|Deep Security Man...|50.0.1189|851|cat=System#011nam...|2022|Jun  1 07:39:01|07:39:01|2022-06-1|     TM-JIO-Console-1|  1|   06|2022-06-12022|      System|Reconnaissance De...|The Agent/Applian...|        6|192.168.83.163|   System|  10.129.76.76|  (sidcpaymeng08)|The Agent/Applian...|  10.129.76.75|\n",
            "|<166>Jun  1 07:44...|Trend Micro|Deep Security Man...|50.0.1189|851|cat=System#011nam...|2022|Jun  1 07:44:42|07:44:42|2022-06-1|     TM-JIO-Console-1|  1|   06|2022-06-12022|      System|Reconnaissance De...|The Agent/Applian...|        6|192.168.83.163|   System|  10.129.76.76|  (sidcpaymeng08)|The Agent/Applian...|  10.129.76.75|\n",
            "|<166>Jun  1 07:50...|Trend Micro|Deep Security Man...|50.0.1189|851|cat=System#011nam...|2022|Jun  1 07:50:23|07:50:23|2022-06-1|     TM-JIO-Console-1|  1|   06|2022-06-12022|      System|Reconnaissance De...|The Agent/Applian...|        6|192.168.83.163|   System|  10.129.76.76|  (sidcpaymeng08)|The Agent/Applian...|  10.129.76.75|\n",
            "|<166>Jun  1 07:56...|Trend Micro|Deep Security Man...|50.0.1189|851|cat=System#011nam...|2022|Jun  1 07:56:04|07:56:04|2022-06-1|     TM-JIO-Console-1|  1|   06|2022-06-12022|      System|Reconnaissance De...|The Agent/Applian...|        6|192.168.83.163|   System|  10.129.76.76|  (sidcpaymeng08)|The Agent/Applian...|  10.129.76.75|\n",
            "|<166>Jun  1 08:01...|Trend Micro|Deep Security Man...|50.0.1189|851|cat=System#011nam...|2022|Jun  1 08:01:45|08:01:45|2022-06-1|     TM-JIO-Console-1|  1|   06|2022-06-12022|      System|Reconnaissance De...|The Agent/Applian...|        6|192.168.83.163|   System|  10.129.76.76|  (sidcpaymeng08)|The Agent/Applian...|  10.129.76.75|\n",
            "|<166>Jun  1 08:07...|Trend Micro|Deep Security Man...|50.0.1189|851|cat=System#011nam...|2022|Jun  1 08:07:26|08:07:26|2022-06-1|     TM-JIO-Console-1|  1|   06|2022-06-12022|      System|Reconnaissance De...|The Agent/Applian...|        6|192.168.83.163|   System|  10.129.76.76|  (sidcpaymeng08)|The Agent/Applian...|  10.129.76.75|\n",
            "|<166>Jun  1 08:13...|Trend Micro|Deep Security Man...|50.0.1189|851|cat=System#011nam...|2022|Jun  1 08:13:07|08:13:07|2022-06-1|     TM-JIO-Console-1|  1|   06|2022-06-12022|      System|Reconnaissance De...|The Agent/Applian...|        6|192.168.83.163|   System|  10.129.76.76|  (sidcpaymeng08)|The Agent/Applian...|  10.129.76.75|\n",
            "|<166>Jun  1 08:18...|Trend Micro|Deep Security Man...|50.0.1189|851|cat=System#011nam...|2022|Jun  1 08:18:48|08:18:48|2022-06-1|     TM-JIO-Console-1|  1|   06|2022-06-12022|      System|Reconnaissance De...|The Agent/Applian...|        6|192.168.83.163|   System|  10.129.76.76|  (sidcpaymeng08)|The Agent/Applian...|  10.129.76.75|\n",
            "|<166>Jun  1 08:24...|Trend Micro|Deep Security Man...|50.0.1189|851|cat=System#011nam...|2022|Jun  1 08:24:29|08:24:29|2022-06-1|     TM-JIO-Console-1|  1|   06|2022-06-12022|      System|Reconnaissance De...|The Agent/Applian...|        6|192.168.83.163|   System|  10.129.76.76|  (sidcpaymeng08)|The Agent/Applian...|  10.129.76.75|\n",
            "+--------------------+-----------+--------------------+---------+---+--------------------+----+---------------+--------+---------+---------------------+---+-----+-------------+------------+--------------------+--------------------+---------+--------------+---------+--------------+-----------------+--------------------+--------------+\n",
            "\n"
          ]
        }
      ]
    },
    {
      "cell_type": "code",
      "source": [
        "df1=df1.withColumn(\"destination_port\",F.regexp_replace(F.regexp_extract(df1._c5,'(TrendMicroDsTargetPortList=[\\d*;]*\\d*)',1),'TrendMicroDsTargetPortList=',\"\"))\n",
        "df1.show()"
      ],
      "metadata": {
        "colab": {
          "base_uri": "https://localhost:8080/"
        },
        "id": "W1NztDBRcabz",
        "outputId": "8133ed6d-a541-4ee5-aafd-56ede4205129"
      },
      "execution_count": 86,
      "outputs": [
        {
          "output_type": "stream",
          "name": "stdout",
          "text": [
            "+--------------------+-----------+--------------------+---------+---+--------------------+----+---------------+--------+---------+---------------------+---+-----+-------------+------------+--------------------+--------------------+---------+--------------+---------+--------------+-----------------+--------------------+--------------+--------------------+\n",
            "|                 _c0|        _c1|                 _c2|      _c3|_c4|                 _c5|year|            _c6|    Time|     Date|Data_source_host_name|Day|month|     New_date|log_category|         attack_type|         description|seviority|        src_ip|user_name|destination_ip|desitination_host|        rule_message|Data_source_ip|    destination_port|\n",
            "+--------------------+-----------+--------------------+---------+---+--------------------+----+---------------+--------+---------+---------------------+---+-----+-------------+------------+--------------------+--------------------+---------+--------------+---------+--------------+-----------------+--------------------+--------------+--------------------+\n",
            "|<166>Jun  1 07:33...|Trend Micro|Deep Security Man...|50.0.1189|851|cat=System#011nam...|2022|Jun  1 07:33:21|07:33:21|2022-06-1|     TM-JIO-Console-1|  1|   06|2022-06-12022|      System|Reconnaissance De...|The Agent/Applian...|        6|192.168.83.163|   System|  10.129.76.76|  (sidcpaymeng08)|The Agent/Applian...|  10.129.76.75|7001;17000;17001;...|\n",
            "|<166>Jun  1 07:39...|Trend Micro|Deep Security Man...|50.0.1189|851|cat=System#011nam...|2022|Jun  1 07:39:01|07:39:01|2022-06-1|     TM-JIO-Console-1|  1|   06|2022-06-12022|      System|Reconnaissance De...|The Agent/Applian...|        6|192.168.83.163|   System|  10.129.76.76|  (sidcpaymeng08)|The Agent/Applian...|  10.129.76.75|7001;17000;17001;...|\n",
            "|<166>Jun  1 07:44...|Trend Micro|Deep Security Man...|50.0.1189|851|cat=System#011nam...|2022|Jun  1 07:44:42|07:44:42|2022-06-1|     TM-JIO-Console-1|  1|   06|2022-06-12022|      System|Reconnaissance De...|The Agent/Applian...|        6|192.168.83.163|   System|  10.129.76.76|  (sidcpaymeng08)|The Agent/Applian...|  10.129.76.75|7001;17000;17001;...|\n",
            "|<166>Jun  1 07:50...|Trend Micro|Deep Security Man...|50.0.1189|851|cat=System#011nam...|2022|Jun  1 07:50:23|07:50:23|2022-06-1|     TM-JIO-Console-1|  1|   06|2022-06-12022|      System|Reconnaissance De...|The Agent/Applian...|        6|192.168.83.163|   System|  10.129.76.76|  (sidcpaymeng08)|The Agent/Applian...|  10.129.76.75|7001;17000;17001;...|\n",
            "|<166>Jun  1 07:56...|Trend Micro|Deep Security Man...|50.0.1189|851|cat=System#011nam...|2022|Jun  1 07:56:04|07:56:04|2022-06-1|     TM-JIO-Console-1|  1|   06|2022-06-12022|      System|Reconnaissance De...|The Agent/Applian...|        6|192.168.83.163|   System|  10.129.76.76|  (sidcpaymeng08)|The Agent/Applian...|  10.129.76.75|7001;17000;17001;...|\n",
            "|<166>Jun  1 08:01...|Trend Micro|Deep Security Man...|50.0.1189|851|cat=System#011nam...|2022|Jun  1 08:01:45|08:01:45|2022-06-1|     TM-JIO-Console-1|  1|   06|2022-06-12022|      System|Reconnaissance De...|The Agent/Applian...|        6|192.168.83.163|   System|  10.129.76.76|  (sidcpaymeng08)|The Agent/Applian...|  10.129.76.75|7001;17000;17001;...|\n",
            "|<166>Jun  1 08:07...|Trend Micro|Deep Security Man...|50.0.1189|851|cat=System#011nam...|2022|Jun  1 08:07:26|08:07:26|2022-06-1|     TM-JIO-Console-1|  1|   06|2022-06-12022|      System|Reconnaissance De...|The Agent/Applian...|        6|192.168.83.163|   System|  10.129.76.76|  (sidcpaymeng08)|The Agent/Applian...|  10.129.76.75|7001;17000;17001;...|\n",
            "|<166>Jun  1 08:13...|Trend Micro|Deep Security Man...|50.0.1189|851|cat=System#011nam...|2022|Jun  1 08:13:07|08:13:07|2022-06-1|     TM-JIO-Console-1|  1|   06|2022-06-12022|      System|Reconnaissance De...|The Agent/Applian...|        6|192.168.83.163|   System|  10.129.76.76|  (sidcpaymeng08)|The Agent/Applian...|  10.129.76.75|7001;17000;17001;...|\n",
            "|<166>Jun  1 08:18...|Trend Micro|Deep Security Man...|50.0.1189|851|cat=System#011nam...|2022|Jun  1 08:18:48|08:18:48|2022-06-1|     TM-JIO-Console-1|  1|   06|2022-06-12022|      System|Reconnaissance De...|The Agent/Applian...|        6|192.168.83.163|   System|  10.129.76.76|  (sidcpaymeng08)|The Agent/Applian...|  10.129.76.75|7001;17000;17001;...|\n",
            "|<166>Jun  1 08:24...|Trend Micro|Deep Security Man...|50.0.1189|851|cat=System#011nam...|2022|Jun  1 08:24:29|08:24:29|2022-06-1|     TM-JIO-Console-1|  1|   06|2022-06-12022|      System|Reconnaissance De...|The Agent/Applian...|        6|192.168.83.163|   System|  10.129.76.76|  (sidcpaymeng08)|The Agent/Applian...|  10.129.76.75|7001;17000;17001;...|\n",
            "+--------------------+-----------+--------------------+---------+---+--------------------+----+---------------+--------+---------+---------------------+---+-----+-------------+------------+--------------------+--------------------+---------+--------------+---------+--------------+-----------------+--------------------+--------------+--------------------+\n",
            "\n"
          ]
        }
      ]
    },
    {
      "cell_type": "code",
      "source": [
        "df2=df1.drop('_c0','_c1','_c2','_c3','_c4','_c5','_c6','year','Day','Month')"
      ],
      "metadata": {
        "id": "QLaiqql0c7kq"
      },
      "execution_count": 87,
      "outputs": []
    },
    {
      "cell_type": "code",
      "source": [
        "df2.show()"
      ],
      "metadata": {
        "colab": {
          "base_uri": "https://localhost:8080/"
        },
        "id": "WwB3j_DcdgCN",
        "outputId": "584ce2fe-6042-4da0-edc7-7591e7dcf03a"
      },
      "execution_count": 88,
      "outputs": [
        {
          "output_type": "stream",
          "name": "stdout",
          "text": [
            "+--------+---------+---------------------+-------------+------------+--------------------+--------------------+---------+--------------+---------+--------------+-----------------+--------------------+--------------+--------------------+\n",
            "|    Time|     Date|Data_source_host_name|     New_date|log_category|         attack_type|         description|seviority|        src_ip|user_name|destination_ip|desitination_host|        rule_message|Data_source_ip|    destination_port|\n",
            "+--------+---------+---------------------+-------------+------------+--------------------+--------------------+---------+--------------+---------+--------------+-----------------+--------------------+--------------+--------------------+\n",
            "|07:33:21|2022-06-1|     TM-JIO-Console-1|2022-06-12022|      System|Reconnaissance De...|The Agent/Applian...|        6|192.168.83.163|   System|  10.129.76.76|  (sidcpaymeng08)|The Agent/Applian...|  10.129.76.75|7001;17000;17001;...|\n",
            "|07:39:01|2022-06-1|     TM-JIO-Console-1|2022-06-12022|      System|Reconnaissance De...|The Agent/Applian...|        6|192.168.83.163|   System|  10.129.76.76|  (sidcpaymeng08)|The Agent/Applian...|  10.129.76.75|7001;17000;17001;...|\n",
            "|07:44:42|2022-06-1|     TM-JIO-Console-1|2022-06-12022|      System|Reconnaissance De...|The Agent/Applian...|        6|192.168.83.163|   System|  10.129.76.76|  (sidcpaymeng08)|The Agent/Applian...|  10.129.76.75|7001;17000;17001;...|\n",
            "|07:50:23|2022-06-1|     TM-JIO-Console-1|2022-06-12022|      System|Reconnaissance De...|The Agent/Applian...|        6|192.168.83.163|   System|  10.129.76.76|  (sidcpaymeng08)|The Agent/Applian...|  10.129.76.75|7001;17000;17001;...|\n",
            "|07:56:04|2022-06-1|     TM-JIO-Console-1|2022-06-12022|      System|Reconnaissance De...|The Agent/Applian...|        6|192.168.83.163|   System|  10.129.76.76|  (sidcpaymeng08)|The Agent/Applian...|  10.129.76.75|7001;17000;17001;...|\n",
            "|08:01:45|2022-06-1|     TM-JIO-Console-1|2022-06-12022|      System|Reconnaissance De...|The Agent/Applian...|        6|192.168.83.163|   System|  10.129.76.76|  (sidcpaymeng08)|The Agent/Applian...|  10.129.76.75|7001;17000;17001;...|\n",
            "|08:07:26|2022-06-1|     TM-JIO-Console-1|2022-06-12022|      System|Reconnaissance De...|The Agent/Applian...|        6|192.168.83.163|   System|  10.129.76.76|  (sidcpaymeng08)|The Agent/Applian...|  10.129.76.75|7001;17000;17001;...|\n",
            "|08:13:07|2022-06-1|     TM-JIO-Console-1|2022-06-12022|      System|Reconnaissance De...|The Agent/Applian...|        6|192.168.83.163|   System|  10.129.76.76|  (sidcpaymeng08)|The Agent/Applian...|  10.129.76.75|7001;17000;17001;...|\n",
            "|08:18:48|2022-06-1|     TM-JIO-Console-1|2022-06-12022|      System|Reconnaissance De...|The Agent/Applian...|        6|192.168.83.163|   System|  10.129.76.76|  (sidcpaymeng08)|The Agent/Applian...|  10.129.76.75|7001;17000;17001;...|\n",
            "|08:24:29|2022-06-1|     TM-JIO-Console-1|2022-06-12022|      System|Reconnaissance De...|The Agent/Applian...|        6|192.168.83.163|   System|  10.129.76.76|  (sidcpaymeng08)|The Agent/Applian...|  10.129.76.75|7001;17000;17001;...|\n",
            "+--------+---------+---------------------+-------------+------------+--------------------+--------------------+---------+--------------+---------+--------------+-----------------+--------------------+--------------+--------------------+\n",
            "\n"
          ]
        }
      ]
    },
    {
      "cell_type": "code",
      "source": [
        ""
      ],
      "metadata": {
        "id": "qde3XoUMdmae"
      },
      "execution_count": 88,
      "outputs": []
    }
  ]
}